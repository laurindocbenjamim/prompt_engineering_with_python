{
 "cells": [
  {
   "cell_type": "code",
   "execution_count": 16,
   "metadata": {},
   "outputs": [
    {
     "name": "stdout",
     "output_type": "stream",
     "text": [
      "Requirement already satisfied: openai in c:\\users\\utilizador\\anaconda3\\lib\\site-packages (1.35.13)\n",
      "Requirement already satisfied: anyio<5,>=3.5.0 in c:\\users\\utilizador\\anaconda3\\lib\\site-packages (from openai) (4.4.0)\n",
      "Requirement already satisfied: distro<2,>=1.7.0 in c:\\users\\utilizador\\anaconda3\\lib\\site-packages (from openai) (1.8.0)\n",
      "Requirement already satisfied: httpx<1,>=0.23.0 in c:\\users\\utilizador\\anaconda3\\lib\\site-packages (from openai) (0.27.0)\n",
      "Requirement already satisfied: pydantic<3,>=1.9.0 in c:\\users\\utilizador\\anaconda3\\lib\\site-packages (from openai) (1.10.12)\n",
      "Requirement already satisfied: sniffio in c:\\users\\utilizador\\anaconda3\\lib\\site-packages (from openai) (1.3.1)\n",
      "Requirement already satisfied: tqdm>4 in c:\\users\\utilizador\\anaconda3\\lib\\site-packages (from openai) (4.65.0)\n",
      "Requirement already satisfied: typing-extensions<5,>=4.7 in c:\\users\\utilizador\\anaconda3\\lib\\site-packages (from openai) (4.9.0)\n",
      "Requirement already satisfied: idna>=2.8 in c:\\users\\utilizador\\anaconda3\\lib\\site-packages (from anyio<5,>=3.5.0->openai) (3.4)\n",
      "Requirement already satisfied: certifi in c:\\users\\utilizador\\anaconda3\\lib\\site-packages (from httpx<1,>=0.23.0->openai) (2023.11.17)\n",
      "Requirement already satisfied: httpcore==1.* in c:\\users\\utilizador\\anaconda3\\lib\\site-packages (from httpx<1,>=0.23.0->openai) (1.0.5)\n",
      "Requirement already satisfied: h11<0.15,>=0.13 in c:\\users\\utilizador\\anaconda3\\lib\\site-packages (from httpcore==1.*->httpx<1,>=0.23.0->openai) (0.14.0)\n",
      "Requirement already satisfied: colorama in c:\\users\\utilizador\\appdata\\roaming\\python\\python311\\site-packages (from tqdm>4->openai) (0.4.6)\n"
     ]
    }
   ],
   "source": [
    "# Installing libraries\n",
    "#!pip install openai\n",
    "!pip install --upgrade openai"
   ]
  },
  {
   "cell_type": "code",
   "execution_count": 2,
   "metadata": {},
   "outputs": [],
   "source": [
    "# Importing libraries\n",
    "import openai\n",
    "import os\n"
   ]
  },
  {
   "cell_type": "code",
   "execution_count": 6,
   "metadata": {},
   "outputs": [],
   "source": [
    "from dotenv import load_dotenv, find_dotenv\n",
    "_ = load_dotenv(find_dotenv())\n",
    "\n",
    "\"\"\" Approach - changes iteration\n",
    "Old notation: \n",
    "openai.api_key  = os.getenv('OPEN_AI_API_KEY')\n",
    "\n",
    "New notation:\n",
    "\n",
    "from openai import OpenAI\n",
    "\n",
    "client = OpenAI(\n",
    "  api_key=os.environ['OPENAI_API_KEY'],  # this is also the default, it can be omitted\n",
    ")\n",
    "\n",
    "\n",
    "\"\"\"\n",
    "\n",
    "# new\n",
    "from openai import OpenAI\n",
    "\n",
    "client = OpenAI(\n",
    "  api_key=os.environ['OPEN_AI_API_KEY'],  # this is also the default, it can be omitted\n",
    ")\n"
   ]
  },
  {
   "cell_type": "code",
   "execution_count": 5,
   "metadata": {},
   "outputs": [],
   "source": [
    "#  get completion \n",
    "\"\"\" Approach - Changes\n",
    "\n",
    "Old notation:\n",
    "def get_completion(prompt, model=\"gpt-3.5-turbo\"):\n",
    "    messages = [{\"role\": \"user\", \"content\": prompt}]\n",
    "    response = openai.ChatCompletion.create(\n",
    "        model=model,\n",
    "        messages=messages,\n",
    "        temperature=0, # this is the degree of randomness of the model's output\n",
    "    )\n",
    "    return response.choices[0].message[\"content\"]\n",
    "\n",
    "New notation:\n",
    "# new\n",
    "from openai import AsyncOpenAI\n",
    "\n",
    "client = AsyncOpenAI()\n",
    "completion = await client.chat.completions.create(model=\"gpt-3.5-turbo\", messages=[{\"role\": \"user\", \"content\": \"Hello world\"}])\n",
    "\n",
    "\"\"\"\n",
    "\n",
    "\n",
    "\n",
    "\n",
    "# new\n",
    "from openai import AsyncOpenAI\n",
    "\n",
    "#client = AsyncOpenAI()\n",
    "\n",
    "def get_completion(prompt, model=\"gpt-3.5-turbo\"):\n",
    "    messages = [{\"role\": \"user\", \"content\": prompt}]\n",
    "    completion = client.chat.completions.create(model=model, messages=messages, temperature=0)\n",
    "    \"\"\" return completion.choices[0].message[\"content\"] \"\"\"\n",
    "    return completion.choices[0].message.content\n",
    "    "
   ]
  },
  {
   "cell_type": "code",
   "execution_count": 8,
   "metadata": {},
   "outputs": [
    {
     "name": "stdout",
     "output_type": "stream",
     "text": [
      "Providing clear and specific instructions to a model is essential for guiding it towards the desired output and reducing the chances of irrelevant or incorrect responses, with longer prompts often providing more clarity and context for more detailed and relevant outputs.\n"
     ]
    }
   ],
   "source": [
    "#\n",
    "\n",
    "text = f\"\"\"\n",
    "You should express what you want a model to do by \\ \n",
    "providing instructions that are as clear and \\ \n",
    "specific as you can possibly make them. \\ \n",
    "This will guide the model towards the desired output, \\ \n",
    "and reduce the chances of receiving irrelevant \\ \n",
    "or incorrect responses. Don't confuse writing a \\ \n",
    "clear prompt with writing a short prompt. \\ \n",
    "In many cases, longer prompts provide more clarity \\ \n",
    "and context for the model, which can lead to \\ \n",
    "more detailed and relevant outputs.\n",
    "\"\"\"\n",
    "prompt = f\"\"\"\n",
    "Summarize the text delimited by triple backticks \\ \n",
    "into a single sentence.\n",
    "```{text}```\n",
    "\"\"\"\n",
    "completion = get_completion(prompt)\n",
    "print(completion)"
   ]
  },
  {
   "cell_type": "code",
   "execution_count": 50,
   "metadata": {},
   "outputs": [
    {
     "name": "stdout",
     "output_type": "stream",
     "text": [
      "[\n",
      "    {\n",
      "        \"book_id\": 1,\n",
      "        \"title\": \"The Midnight Garden\",\n",
      "        \"author\": \"Elena Rivers\",\n",
      "        \"genre\": \"Fantasy\"\n",
      "    },\n",
      "    {\n",
      "        \"book_id\": 2,\n",
      "        \"title\": \"Echoes of the Past\",\n",
      "        \"author\": \"Nathan Black\",\n",
      "        \"genre\": \"Mystery\"\n",
      "    },\n",
      "    {\n",
      "        \"book_id\": 3,\n",
      "        \"title\": \"Whispers in the Wind\",\n",
      "        \"author\": \"Samantha Reed\",\n",
      "        \"genre\": \"Romance\"\n",
      "    }\n",
      "]\n"
     ]
    }
   ],
   "source": [
    "prompt = f\"\"\"\n",
    "Generate a list of three made-up book titles along \\ \n",
    "with their authors and genres. \n",
    "Provide them in JSON format with the following keys: \n",
    "book_id, title, author, genre.\n",
    "\"\"\"\n",
    "response = get_completion(prompt)\n",
    "print(response)"
   ]
  },
  {
   "cell_type": "code",
   "execution_count": 9,
   "metadata": {},
   "outputs": [],
   "source": [
    "\n",
    "phonenumberULR = 'https://worldpopulationreview.com/country-rankings/phone-number-length-by-country'\n",
    "with_length = 'https://www.iban.com/dialing-codes'\n",
    "\n",
    "url = \"https://www.countrycode.org/\"\n",
    "prompt = f\"\"\"\n",
    "Extract all tables data from the ```{with_length}```. \n",
    "Organize them in JSON format where the keys are the table columns and the values the tables rows.\n",
    "\"\"\"\n",
    "response = get_completion(prompt)\n",
    "json_data = response\n"
   ]
  },
  {
   "cell_type": "code",
   "execution_count": 11,
   "metadata": {},
   "outputs": [
    {
     "name": "stdout",
     "output_type": "stream",
     "text": [
      "\"{\\n  \\\"Country\\\": [\\n    {\\n      \\\"Country\\\": \\\"Afghanistan\\\",\\n      \\\"Alpha-2 code\\\": \\\"AF\\\",\\n      \\\"Alpha-3 code\\\": \\\"AFG\\\",\\n      \\\"Numeric code\\\": \\\"004\\\",\\n      \\\"Dialing code\\\": \\\"+93\\\"\\n    },\\n    {\\n      \\\"Country\\\": \\\"Albania\\\",\\n      \\\"Alpha-2 code\\\": \\\"AL\\\",\\n      \\\"Alpha-3 code\\\": \\\"ALB\\\",\\n      \\\"Numeric code\\\": \\\"008\\\",\\n      \\\"Dialing code\\\": \\\"+355\\\"\\n    },\\n    {\\n      \\\"Country\\\": \\\"Algeria\\\",\\n      \\\"Alpha-2 code\\\": \\\"DZ\\\",\\n      \\\"Alpha-3 code\\\": \\\"DZA\\\",\\n      \\\"Numeric code\\\": \\\"012\\\",\\n      \\\"Dialing code\\\": \\\"+213\\\"\\n    },\\n    {\\n      \\\"Country\\\": \\\"American Samoa\\\",\\n      \\\"Alpha-2 code\\\": \\\"AS\\\",\\n      \\\"Alpha-3 code\\\": \\\"ASM\\\",\\n      \\\"Numeric code\\\": \\\"016\\\",\\n      \\\"Dialing code\\\": \\\"+1-684\\\"\\n    },\\n    {\\n      \\\"Country\\\": \\\"Andorra\\\",\\n      \\\"Alpha-2 code\\\": \\\"AD\\\",\\n      \\\"Alpha-3 code\\\": \\\"AND\\\",\\n      \\\"Numeric code\\\": \\\"020\\\",\\n      \\\"Dialing code\\\": \\\"+376\\\"\\n    },\\n    {\\n      \\\"Country\\\": \\\"Angola\\\",\\n      \\\"Alpha-2 code\\\": \\\"AO\\\",\\n      \\\"Alpha-3 code\\\": \\\"AGO\\\",\\n      \\\"Numeric code\\\": \\\"024\\\",\\n      \\\"Dialing code\\\": \\\"+244\\\"\\n    },\\n    {\\n      \\\"Country\\\": \\\"Anguilla\\\",\\n      \\\"Alpha-2 code\\\": \\\"AI\\\",\\n      \\\"Alpha-3 code\\\": \\\"AIA\\\",\\n      \\\"Numeric code\\\": \\\"660\\\",\\n      \\\"Dialing code\\\": \\\"+1-264\\\"\\n    },\\n    {\\n      \\\"Country\\\": \\\"Antigua and Barbuda\\\",\\n      \\\"Alpha-2 code\\\": \\\"AG\\\",\\n      \\\"Alpha-3 code\\\": \\\"ATG\\\",\\n      \\\"Numeric code\\\": \\\"028\\\",\\n      \\\"Dialing code\\\": \\\"+1-268\\\"\\n    },\\n    {\\n      \\\"Country\\\": \\\"Argentina\\\",\\n      \\\"Alpha-2 code\\\": \\\"AR\\\",\\n      \\\"Alpha-3 code\\\": \\\"ARG\\\",\\n      \\\"Numeric code\\\": \\\"032\\\",\\n      \\\"Dialing code\\\": \\\"+54\\\"\\n    },\\n    {\\n      \\\"Country\\\": \\\"Armenia\\\",\\n      \\\"Alpha-2 code\\\": \\\"AM\\\",\\n      \\\"Alpha-3 code\\\": \\\"ARM\\\",\\n      \\\"Numeric code\\\": \\\"051\\\",\\n      \\\"Dialing code\\\": \\\"+374\\\"\\n    },\\n    {\\n      \\\"Country\\\": \\\"Aruba\\\",\\n      \\\"Alpha-2 code\\\": \\\"AW\\\",\\n      \\\"Alpha-3 code\\\": \\\"ABW\\\",\\n      \\\"Numeric code\\\": \\\"533\\\",\\n      \\\"Dialing code\\\": \\\"+297\\\"\\n    },\\n    {\\n      \\\"Country\\\": \\\"Australia\\\",\\n      \\\"Alpha-2 code\\\": \\\"AU\\\",\\n      \\\"Alpha-3 code\\\": \\\"AUS\\\",\\n      \\\"Numeric code\\\": \\\"036\\\",\\n      \\\"Dialing code\\\": \\\"+61\\\"\\n    },\\n    {\\n      \\\"Country\\\": \\\"Austria\\\",\\n      \\\"Alpha-2 code\\\": \\\"AT\\\",\\n      \\\"Alpha-3 code\\\": \\\"AUT\\\",\\n      \\\"Numeric code\\\": \\\"040\\\",\\n      \\\"Dialing code\\\": \\\"+43\\\"\\n    },\\n    {\\n      \\\"Country\\\": \\\"Azerbaijan\\\",\\n      \\\"Alpha-2 code\\\": \\\"AZ\\\",\\n      \\\"Alpha-3 code\\\": \\\"AZE\\\",\\n      \\\"Numeric code\\\": \\\"031\\\",\\n      \\\"Dialing code\\\": \\\"+994\\\"\\n    },\\n    {\\n      \\\"Country\\\": \\\"Bahamas\\\",\\n      \\\"Alpha-2 code\\\": \\\"BS\\\",\\n      \\\"Alpha-3 code\\\": \\\"BHS\\\",\\n      \\\"Numeric code\\\": \\\"044\\\",\\n      \\\"Dialing code\\\": \\\"+1-242\\\"\\n    },\\n    {\\n      \\\"Country\\\": \\\"Bahrain\\\",\\n      \\\"Alpha-2 code\\\": \\\"BH\\\",\\n      \\\"Alpha-3 code\\\": \\\"BHR\\\",\\n      \\\"Numeric code\\\": \\\"048\\\",\\n      \\\"Dialing code\\\": \\\"+973\\\"\\n    },\\n    {\\n      \\\"Country\\\": \\\"Bangladesh\\\",\\n      \\\"Alpha-2 code\\\": \\\"BD\\\",\\n      \\\"Alpha-3 code\\\": \\\"BGD\\\",\\n      \\\"Numeric code\\\": \\\"050\\\",\\n      \\\"Dialing code\\\": \\\"+880\\\"\\n    },\\n    {\\n      \\\"Country\\\": \\\"Barbados\\\",\\n      \\\"Alpha-2 code\\\": \\\"BB\\\",\\n      \\\"Alpha-3 code\\\": \\\"BRB\\\",\\n      \\\"Numeric code\\\": \\\"052\\\",\\n      \\\"Dialing code\\\": \\\"+1-246\\\"\\n    },\\n    {\\n      \\\"Country\\\": \\\"Belarus\\\",\\n      \\\"Alpha-2 code\\\": \\\"BY\\\",\\n      \\\"Alpha-3 code\\\": \\\"BLR\\\",\\n      \\\"Numeric code\\\": \\\"112\\\",\\n      \\\"Dialing code\\\": \\\"+375\\\"\\n    },\\n    {\\n      \\\"Country\\\": \\\"Belgium\\\",\\n      \\\"Alpha-2 code\\\": \\\"BE\\\",\\n      \\\"Alpha-3 code\\\": \\\"BEL\\\",\\n      \\\"Numeric code\\\": \\\"056\\\",\\n      \\\"Dialing code\\\": \\\"+32\\\"\\n    },\\n    {\\n      \\\"Country\\\": \\\"Belize\\\",\\n      \\\"Alpha-2 code\\\": \\\"BZ\\\",\\n      \\\"Alpha-3 code\\\": \\\"BLZ\\\",\\n      \\\"Numeric code\\\": \\\"084\\\",\\n      \\\"Dialing code\\\": \\\"+501\\\"\\n    },\\n    {\\n      \\\"Country\\\": \\\"Benin\\\",\\n      \\\"Alpha-2 code\\\": \\\"BJ\\\",\\n      \\\"Alpha-3 code\\\": \\\"BEN\\\",\\n      \\\"Numeric code\\\": \\\"204\\\",\\n      \\\"Dialing code\\\": \\\"+229\\\"\\n    },\\n    {\\n      \\\"Country\\\": \\\"Bermuda\\\",\\n      \\\"Alpha-2 code\\\": \\\"BM\\\",\\n      \\\"Alpha-3 code\\\": \\\"BMU\\\",\\n      \\\"Numeric code\\\": \\\"060\\\",\\n      \\\"Dialing code\\\": \\\"+1-441\\\"\\n    },\\n    {\\n      \\\"Country\\\": \\\"Bhutan\\\",\\n      \\\"Alpha-2 code\\\": \\\"BT\\\",\\n      \\\"Alpha-3 code\\\": \\\"BTN\\\",\\n      \\\"Numeric code\\\": \\\"064\\\",\\n      \\\"Dialing code\\\": \\\"+975\\\"\\n    },\\n    {\\n      \\\"Country\\\": \\\"Bolivia\\\",\\n      \\\"Alpha-2 code\\\": \\\"BO\\\",\\n      \\\"Alpha-3 code\\\": \\\"BOL\\\",\\n      \\\"Numeric code\\\": \\\"068\\\",\\n      \\\"Dialing code\\\": \\\"+591\\\"\\n    },\\n    {\\n      \\\"Country\\\": \\\"Bosnia and Herzegovina\\\",\\n      \\\"Alpha-2 code\\\": \\\"BA\\\",\\n      \\\"Alpha-3 code\\\": \\\"BIH\\\",\\n      \\\"Numeric code\\\": \\\"070\\\",\\n      \\\"Dialing code\\\": \\\"+387\\\"\\n    },\\n    {\\n      \\\"Country\\\": \\\"Botswana\\\",\\n      \\\"Alpha-2 code\\\": \\\"BW\\\",\\n      \\\"Alpha-3 code\\\": \\\"BWA\\\",\\n      \\\"Numeric code\\\": \\\"072\\\",\\n      \\\"Dialing code\\\": \\\"+267\\\"\\n    },\\n    {\\n      \\\"Country\\\": \\\"Brazil\\\",\\n      \\\"Alpha-2 code\\\": \\\"BR\\\",\\n      \\\"Alpha-3 code\\\": \\\"BRA\\\",\\n      \\\"Numeric code\\\": \\\"076\\\",\\n      \\\"Dialing code\\\": \\\"+55\\\"\\n    },\\n    {\\n      \\\"Country\\\": \\\"British Indian Ocean Territory\\\",\\n      \\\"Alpha-2 code\\\": \\\"IO\\\",\\n      \\\"Alpha-3 code\\\": \\\"IOT\\\",\\n      \\\"Numeric code\\\": \\\"086\\\",\\n      \\\"Dialing code\\\": \\\"+246\\\"\\n    },\\n    {\\n      \\\"Country\\\": \\\"British Virgin Islands\\\",\\n      \\\"Alpha-2 code\\\": \\\"VG\\\",\\n      \\\"Alpha-3 code\\\": \\\"VGB\\\",\\n      \\\"Numeric code\\\": \\\"092\\\",\\n      \\\"Dialing code\\\": \\\"+1-284\\\"\\n    },\\n    {\\n      \\\"Country\\\": \\\"Brunei\\\",\\n      \\\"Alpha-2 code\\\": \\\"BN\\\",\\n      \\\"Alpha-3 code\\\": \\\"BRN\\\",\\n      \\\"Numeric code\\\": \\\"096\\\",\\n      \\\"Dialing code\\\": \\\"+673\\\"\\n    },\\n    {\\n      \\\"Country\\\": \\\"Bulgaria\\\",\\n      \\\"Alpha-2 code\\\": \\\"BG\\\",\\n      \\\"Alpha-3 code\\\": \\\"BGR\\\",\\n      \\\"Numeric code\\\": \\\"100\\\",\\n      \\\"Dialing code\\\": \\\"+359\\\"\\n    },\\n    {\\n      \\\"Country\\\": \\\"Burkina Faso\\\",\\n      \\\"Alpha-2 code\\\": \\\"BF\\\",\\n      \\\"Alpha-3 code\\\": \\\"BFA\\\",\\n      \\\"Numeric code\\\": \\\"854\\\",\\n      \\\"Dialing code\\\": \\\"+226\\\"\\n    },\\n    {\\n      \\\"Country\\\": \\\"Burundi\\\",\\n      \\\"Alpha-2 code\\\": \\\"BI\\\",\\n      \\\"Alpha-3 code\\\": \\\"BDI\\\",\\n      \\\"Numeric code\\\": \\\"108\\\",\\n      \\\"Dialing code\\\": \\\"+257\\\"\\n    },\\n    {\\n      \\\"Country\\\": \\\"Cambodia\\\",\\n      \\\"Alpha-2 code\\\": \\\"KH\\\",\\n      \\\"Alpha-3 code\\\": \\\"KHM\\\",\\n      \\\"Numeric code\\\": \\\"116\\\",\\n      \\\"Dialing code\\\": \\\"+855\\\"\\n    },\\n    {\\n      \\\"Country\\\": \\\"Cameroon\\\",\\n      \\\"Alpha-2 code\\\": \\\"CM\\\",\\n      \\\"Alpha-3 code\\\": \\\"CMR\\\",\\n      \\\"Numeric code\\\": \\\"120\\\",\\n      \\\"Dialing code\\\": \\\"+237\\\"\\n    },\\n    {\\n      \\\"Country\\\": \\\"Canada\\\",\\n      \\\"Alpha-2 code\\\": \\\"CA\\\",\\n      \\\"Alpha-3 code\\\": \\\"CAN\\\",\\n      \\\"Numeric code\\\": \\\"124\\\",\\n      \\\"Dialing code\\\": \\\"+1\\\"\\n    },\\n    {\\n      \\\"Country\\\": \\\"Cape Verde\\\",\\n      \\\"Alpha-2 code\\\": \\\"CV\\\",\\n      \\\"Alpha-3 code\\\": \\\"CPV\\\",\\n      \\\"Numeric code\\\": \\\"132\\\",\\n      \\\"Dialing code\\\": \\\"+238\\\"\\n    },\\n    {\\n      \\\"Country\\\": \\\"Cayman Islands\\\",\\n      \\\"Alpha-2 code\\\": \\\"KY\\\",\\n      \\\"Alpha-3 code\\\": \\\"CYM\\\",\\n      \\\"Numeric code\\\": \\\"136\\\",\\n      \\\"Dialing code\\\": \\\"+1-345\\\"\\n    },\\n    {\\n      \\\"Country\\\": \\\"Central African Republic\\\",\\n      \\\"Alpha-2 code\\\": \\\"CF\\\",\\n      \\\"Alpha-3 code\\\": \\\"CAF\\\",\\n      \\\"Numeric code\\\": \\\"140\\\",\\n      \\\"Dialing code\\\": \\\"+236\\\"\\n    },\\n    {\\n      \\\"Country\\\": \\\"Chad\\\",\\n      \\\"Alpha-2 code\\\": \\\"TD\\\",\\n      \\\"Alpha-3 code\\\": \\\"TCD\\\",\\n      \\\"Numeric code\\\": \\\"148\\\",\\n      \\\"Dialing code\\\": \\\"+235\\\"\\n    },\\n    {\\n      \\\"Country\\\": \\\"Chile\\\",\\n      \\\"Alpha-2 code\\\": \\\"CL\\\",\\n      \\\"Alpha-3 code\\\": \\\"CHL\\\",\\n      \\\"Numeric code\\\": \\\"152\\\",\\n      \\\"Dialing code\\\": \\\"+56\\\"\\n    },\\n    {\\n      \\\"Country\\\": \\\"China\\\",\\n      \\\"Alpha-2 code\\\": \\\"CN\\\",\\n      \\\"Alpha-3 code\\\": \\\"CHN\\\",\\n      \\\"Numeric code\\\": \\\"156\\\",\\n      \\\"Dialing code\\\": \\\"+86\\\"\\n    },\\n    {\\n      \\\"Country\\\": \\\"Christmas Island\\\",\\n      \\\"Alpha-2 code\\\": \\\"CX\\\",\\n      \\\"Alpha-3 code\\\": \\\"CXR\\\",\\n      \\\"Numeric code\\\": \\\"162\\\",\\n      \\\"Dialing code\\\": \\\"+61\\\"\\n    },\\n    {\\n      \\\"Country\\\": \\\"Cocos Islands\\\",\\n      \\\"Alpha-2 code\\\": \\\"CC\\\",\\n      \\\"Alpha-3 code\\\": \\\"CCK\\\",\\n      \\\"Numeric code\\\": \\\"166\\\",\\n      \\\"Dialing code\\\": \\\"+61\\\"\\n    },\\n    {\\n      \\\"Country\\\": \\\"Colombia\\\",\\n      \\\"Alpha-2 code\\\": \\\"CO\\\",\\n      \\\"Alpha-3 code\\\": \\\"COL\\\",\\n      \\\"Numeric code\\\": \\\"170\\\",\\n      \\\"Dialing code\\\": \\\"+57\\\"\\n    },\\n    {\\n      \\\"Country\\\": \\\"Comoros\\\",\\n      \\\"Alpha-2 code\\\": \\\"KM\\\",\\n      \\\"Alpha-3 code\\\": \\\"COM\\\",\\n      \\\"Numeric code\\\": \\\"174\\\",\\n      \\\"Dialing code\\\": \\\"+269\\\"\\n    },\\n    {\\n      \\\"Country\\\": \\\"Cook Islands\\\",\\n      \\\"Alpha-2 code\\\": \\\"CK\\\",\\n      \\\"Alpha-3 code\\\": \\\"COK\\\",\\n      \\\"Numeric code\\\": \\\"184\\\",\\n      \\\"Dialing code\\\": \\\"+682\\\"\\n    },\\n    {\\n      \\\"Country\\\": \\\"Costa Rica\\\",\\n      \\\"Alpha-2 code\\\": \\\"CR\\\",\\n      \\\"Alpha-3 code\\\": \\\"CRI\\\",\\n      \\\"Numeric code\\\": \\\"188\\\",\\n      \\\"Dialing code\\\": \\\"+506\\\"\\n    },\\n    {\\n      \\\"Country\\\": \\\"Croatia\\\",\\n      \\\"Alpha-2 code\\\": \\\"HR\\\",\\n      \\\"Alpha-3 code\\\": \\\"HRV\\\",\\n      \\\"Numeric code\\\": \\\"191\\\",\\n      \\\"Dialing code\\\": \\\"+385\\\"\\n    },\\n    {\\n      \\\"Country\\\": \\\"Cuba\\\",\\n      \\\"Alpha-2 code\\\": \\\"CU\\\",\\n      \\\"Alpha-3 code\\\": \\\"CUB\\\",\\n      \\\"Numeric code\\\": \\\"192\\\",\\n      \\\"Dialing code\\\": \\\"+53\\\"\\n    },\\n    {\\n      \\\"Country\\\": \\\"Curacao\\\",\\n      \\\"Alpha-2 code\\\": \\\"CW\\\",\\n      \\\"Alpha-3 code\\\": \\\"CUW\\\",\\n      \\\"Numeric code\\\": \\\"531\\\",\\n      \\\"Dialing code\\\": \\\"+599\\\"\\n    },\\n    {\\n      \\\"Country\\\": \\\"Cyprus\\\",\\n      \\\"Alpha-2 code\\\": \\\"CY\\\",\\n      \\\"Alpha-3 code\\\": \\\"CYP\\\",\\n      \\\"Numeric code\\\": \\\"196\\\",\\n      \\\"Dialing code\\\": \\\"+357\\\"\\n    },\\n    {\\n      \\\"Country\\\": \\\"Czech Republic\\\",\\n      \\\"Alpha-2 code\\\": \\\"CZ\\\",\\n      \\\"Alpha-3 code\\\": \\\"CZE\\\",\\n      \\\"Numeric code\\\": \\\"203\\\",\\n      \\\"Dialing code\\\": \\\"+420\\\"\\n    },\\n    {\\n      \\\"Country\\\": \\\"Democratic Republic of the Congo\\\",\\n      \\\"Alpha-2 code\\\": \\\"CD\\\",\\n      \\\"Alpha-3 code\\\": \\\"COD\\\",\\n      \\\"Numeric code\\\": \\\"180\\\",\\n      \\\"Dialing code\\\": \\\"+243\\\"\\n    },\\n    {\\n      \\\"Country\\\": \\\"Denmark\\\",\\n      \\\"Alpha-2 code\\\": \\\"DK\\\",\\n      \\\"Alpha-3 code\\\": \\\"DNK\\\",\\n      \\\"Numeric code\\\": \\\"208\\\",\\n      \\\"Dialing code\\\": \\\"+45\\\"\\n    },\\n    {\\n      \\\"Country\\\": \\\"Djibouti\\\",\\n      \\\"Alpha-2 code\\\": \\\"DJ\\\",\\n      \\\"Alpha-3 code\\\": \\\"DJI\\\",\\n      \\\"Numeric code\\\": \\\"262\\\",\\n      \\\"Dialing code\\\": \\\"+253\\\"\\n    },\\n    {\\n      \\\"Country\\\": \\\"Dominica\\\",\\n      \\\"Alpha-2 code\\\": \\\"DM\\\",\\n      \\\"Alpha-3 code\\\": \\\"DMA\\\",\\n      \\\"Numeric code\\\": \\\"212\\\",\\n      \\\"Dialing code\\\": \\\"+1-767\\\"\\n    },\\n    {\\n      \\\"Country\\\": \\\"Dominican Republic\\\",\\n      \\\"Alpha-2 code\\\": \\\"DO\\\",\\n      \\\"Alpha-3 code\\\": \\\"DOM\\\",\\n      \\\"Numeric code\\\": \\\"214\\\",\\n      \\\"Dialing code\\\": \\\"+1-809, +1-829, +1-849\\\"\\n    },\\n    {\\n      \\\"Country\\\": \\\"East Timor\\\",\\n      \\\"Alpha-2 code\\\": \\\"TL\\\",\\n      \\\"Alpha-3 code\\\": \\\"TLS\\\",\\n      \\\"Numeric code\\\": \\\"626\\\",\\n      \\\"Dialing code\\\": \\\"+670\\\"\\n    },\\n    {\\n      \\\"Country\\\": \\\"Ecuador\\\",\\n      \\\"Alpha-2 code\\\": \\\"EC\\\",\\n      \\\"Alpha-3 code\\\": \\\"ECU\\\",\\n      \\\"Numeric code\\\": \\\"218\\\",\\n      \\\"Dialing code\\\": \\\"+593\\\"\\n    },\\n    {\\n      \\\"Country\\\": \\\"Egypt\\\",\\n      \\\"Alpha-2 code\\\": \\\"EG\\\",\\n      \\\"Alpha-3 code\\\": \\\"EGY\\\",\\n      \\\"Numeric code\\\": \\\"818\\\",\\n      \\\"Dialing code\\\": \\\"+20\\\"\\n    },\\n    {\\n      \\\"Country\\\": \\\"El Salvador\\\",\\n      \\\"Alpha-2 code\\\": \\\"SV\\\",\\n      \\\"Alpha-3 code\\\": \\\"SLV\\\",\\n      \\\"Numeric code\\\": \\\"222\\\",\\n      \\\"Dialing code\\\": \\\"+503\\\"\\n    },\\n    {\\n      \\\"Country\\\": \\\"Equatorial Guinea\\\",\\n      \\\"Alpha-2 code\\\": \\\"GQ\\\",\\n      \\\"Alpha-3 code\\\": \\\"GNQ\\\",\\n      \\\"Numeric code\\\": \\\"226\\\",\\n      \\\"Dialing code\\\": \\\"+240\\\"\\n    },\\n    {\\n      \\\"Country\\\": \\\"Eritrea\\\",\\n      \\\"Alpha-2 code\\\": \\\"ER\\\",\\n      \\\"Alpha-3 code\\\": \\\"ERI\\\",\\n      \\\"Numeric code\\\": \\\"232\\\",\\n      \\\"Dialing code\\\": \\\"+291\\\"\\n    },\\n    {\\n      \\\"Country\\\": \\\"Estonia\\\",\\n      \\\"Alpha-2 code\\\": \\\"EE\\\",\\n      \\\"Alpha-3 code\\\": \\\"EST\\\",\\n      \\\"Numeric code\\\": \\\"233\\\",\\n      \\\"Dialing code\\\": \\\"+372\\\"\\n    },\\n    {\\n      \\\"Country\\\": \\\"Ethiopia\\\",\\n      \\\"Alpha-2 code\\\": \\\"ET\\\",\\n      \\\"Alpha-3 code\\\": \\\"ETH\\\",\\n      \\\"Numeric code\\\": \\\"231\\\",\\n      \\\"Dialing code\\\": \\\"+251\\\"\\n    },\\n    {\\n      \\\"Country\\\": \\\"Falkland Islands\\\",\\n      \\\"Alpha-2 code\\\": \\\"FK\\\",\\n      \\\"Alpha-3 code\\\": \\\"FLK\\\",\\n      \\\"Numeric code\\\": \\\"238\\\",\\n      \\\"Dialing code\\\": \\\"+500\\\"\\n    },\\n    {\\n      \\\"Country\\\": \\\"Faroe Islands\\\",\\n      \\\"Alpha-2 code\\\": \\\"FO\\\",\\n      \\\"Alpha-3 code\\\": \\\"FRO\\\",\\n      \\\"Numeric code\\\": \\\"234\\\",\\n      \\\"Dialing code\\\": \\\"+298\\\"\\n    },\\n    {\\n      \\\"Country\\\": \\\"Fiji\\\",\\n      \\\"Alpha-2 code\\\": \\\"FJ\\\",\\n      \\\"Alpha-3 code\\\": \\\"FJI\\\",\\n      \\\"Numeric code\\\": \\\"242\\\",\\n      \\\"Dialing code\\\": \\\"+679\\\"\\n    },\\n    {\\n      \\\"Country\\\": \\\"Finland\\\",\\n      \\\"Alpha-2 code\\\": \\\"FI\\\",\\n      \\\"Alpha-3 code\\\": \\\"FIN\\\",\\n      \\\"Numeric code\\\": \\\"246\\\",\\n      \\\"Dialing code\\\": \\\"+358\\\"\\n    },\\n    {\\n      \\\"Country\\\": \\\"France\\\",\\n      \\\"Alpha-2 code\\\": \\\"FR\\\",\\n      \\\"Alpha-3 code\\\": \\\"FRA\\\",\\n      \\\"Numeric code\\\": \\\"250\\\",\\n      \\\"Dialing code\\\": \\\"+33\\\"\\n    },\\n    {\\n      \\\"Country\\\": \\\"French Polynesia\\\",\\n      \\\"Alpha-2 code\\\": \\\"PF\\\",\\n      \\\"Alpha-3 code\\\": \\\"PYF\\\",\\n      \\\"Numeric code\\\": \\\"258\\\",\\n      \\\"Dialing code\\\": \\\"+689\\\"\\n    },\\n    {\\n      \\\"Country\\\": \\\"Gabon\\\",\\n      \\\"Alpha-2 code\\\": \\\"GA\\\",\\n      \\\"Alpha-3 code\\\": \\\"GAB\\\",\\n      \\\"Numeric code\\\": \\\"266\\\",\\n      \\\"Dialing code\\\": \\\"+241\\\"\\n    },\\n    {\\n      \\\"Country\\\": \\\"Gambia\\\",\\n      \\\"Alpha-2 code\\\": \\\"GM\\\",\\n      \\\"Alpha-3 code\\\": \\\"GMB\\\",\\n      \\\"Numeric code\\\": \\\"270\\\",\\n      \\\"Dialing code\\\": \\\"+220\\\"\\n    },\\n    {\\n      \\\"Country\\\": \\\"Georgia\\\",\\n      \\\"Alpha-2 code\\\": \\\"GE\\\",\\n      \\\"Alpha-3 code\\\": \\\"GEO\\\",\\n      \\\"Numeric code\\\": \\\"268\\\",\\n      \\\"Dialing code\\\": \\\"+995\\\"\\n    },\\n    {\\n      \\\"Country\\\": \\\"Germany\\\",\\n      \\\"Alpha-2 code\\\": \\\"DE\\\",\\n      \\\"Alpha-3 code\\\": \\\"DEU\\\",\\n      \\\"Numeric code\\\": \\\"276\\\",\\n      \\\"Dialing code\\\": \\\"+49\\\"\\n    },\\n    {\\n      \\\"Country\\\": \\\"Ghana\\\",\\n      \\\"Alpha-2 code\\\": \\\"GH\\\",\\n      \\\"Alpha-3 code\\\": \\\"GHA\\\",\\n      \\\"Numeric code\\\": \\\"288\\\",\\n      \\\"Dialing code\\\": \\\"+233\\\"\\n    },\\n    {\\n      \\\"Country\\\": \\\"Gibraltar\\\",\\n      \\\"Alpha-2 code\\\": \\\"GI\\\",\\n      \\\"Alpha-3 code\\\": \\\"GIB\\\",\\n      \\\"Numeric code\\\": \\\"292\\\",\\n      \\\"Dialing code\\\": \\\"+350\\\"\\n    },\\n    {\\n     \"\n"
     ]
    }
   ],
   "source": [
    "# Format the JSON data\n",
    "import json\n",
    "formatted_json = json.dumps(json_data, indent=4)\n",
    "\n",
    "print(formatted_json)"
   ]
  },
  {
   "cell_type": "code",
   "execution_count": 59,
   "metadata": {},
   "outputs": [
    {
     "name": "stdout",
     "output_type": "stream",
     "text": [
      "Sure! Here is a Python script that will display JSON data in columns and rows:\n",
      "\n",
      "```python\n",
      "import json\n",
      "\n",
      "# Sample JSON data\n",
      "json_data = '''\n",
      "{\n",
      "    \"students\": [\n",
      "        {\n",
      "            \"name\": \"Alice\",\n",
      "            \"age\": 20,\n",
      "            \"grade\": \"A\"\n",
      "        },\n",
      "        {\n",
      "            \"name\": \"Bob\",\n",
      "            \"age\": 22,\n",
      "            \"grade\": \"B\"\n",
      "        },\n",
      "        {\n",
      "            \"name\": \"Charlie\",\n",
      "            \"age\": 21,\n",
      "            \"grade\": \"C\"\n",
      "        }\n",
      "    ]\n",
      "}\n",
      "'''\n",
      "\n",
      "# Load JSON data\n",
      "data = json.loads(json_data)\n",
      "\n",
      "# Display data in columns and rows\n",
      "print(\"{:<10} {:<10} {:<10}\".format(\"Name\", \"Age\", \"Grade\"))\n",
      "print(\"-\" * 30)\n",
      "for student in data[\"students\"]:\n",
      "    print(\"{:<10} {:<10} {:<10}\".format(student[\"name\"], student[\"age\"], student[\"grade\"]))\n",
      "```\n",
      "\n",
      "This script will output the JSON data in columns and rows like this:\n",
      "\n",
      "```\n",
      "Name       Age        Grade     \n",
      "------------------------------\n",
      "Alice      20         A         \n",
      "Bob        22         B         \n",
      "Charlie    21         C         \n",
      "```\n"
     ]
    }
   ],
   "source": [
    "prompt = f\"\"\" \n",
    "    generate a script in python language to \n",
    "    \n",
    "\"\"\"\n",
    "\n",
    "response = get_completion(prompt)\n",
    "print(response)\n"
   ]
  },
  {
   "cell_type": "code",
   "execution_count": 54,
   "metadata": {},
   "outputs": [
    {
     "name": "stdout",
     "output_type": "stream",
     "text": [
      "Data saved into JSON file successfully.\n"
     ]
    }
   ],
   "source": [
    "import json\n",
    "\n",
    "# Save data into JSON file\n",
    "with open(\"data2.json\", \"w\") as file:\n",
    "    json.dump(json_data, file)\n",
    "\n",
    "print(\"Data saved into JSON file successfully.\")"
   ]
  },
  {
   "cell_type": "code",
   "execution_count": 12,
   "metadata": {},
   "outputs": [
    {
     "name": "stdout",
     "output_type": "stream",
     "text": [
      "{\n",
      "  \"research\": {\n",
      "    \"title\": \"Research\",\n",
      "    \"description\": \"Access to a wide range of research providers and news sources to help you make more informed trading decisions.\",\n",
      "    \"pricing\": {\n",
      "      \"provider\": {\n",
      "        \"name\": \"Research Providers\",\n",
      "        \"description\": \"Access to research reports, analyst recommendations, and more from leading providers.\",\n",
      "        \"price\": \"$0.00\"\n",
      "      },\n",
      "      \"news\": {\n",
      "        \"name\": \"News\",\n",
      "        \"description\": \"Access to real-time news from leading sources to stay informed on market developments.\",\n",
      "        \"price\": \"$0.00\"\n",
      "      },\n",
      "      \"market_data\": {\n",
      "        \"name\": \"Market Data\",\n",
      "        \"description\": \"Access to real-time market data to help you track prices and trends.\",\n",
      "        \"price\": \"$0.00\"\n",
      "      }\n",
      "    }\n",
      "  }\n",
      "}\n"
     ]
    }
   ],
   "source": [
    "url = \"https://www.interactivebrokers.ie/en/pricing/research-news-marketdata.php\"\n",
    "prompt = f\"\"\" \n",
    "Extract all data from the following website ```{url}```\n",
    "Step-1: Organize the data from tables into a JSON fromat\n",
    "\n",
    "\"\"\"\n",
    "\n",
    "response = get_completion(prompt)\n",
    "print(response)\n"
   ]
  },
  {
   "cell_type": "code",
   "execution_count": 16,
   "metadata": {},
   "outputs": [
    {
     "name": "stdout",
     "output_type": "stream",
     "text": [
      "```{python}\n",
      "import requests\n",
      "\n",
      "url = 'https://api.example.com/data'\n",
      "headers = {\n",
      "    'Content-Type': 'application/json',\n",
      "    'Authorization': 'Bearer YOUR_ACCESS_TOKEN'\n",
      "}\n",
      "\n",
      "data = {\n",
      "    'key1': 'value1',\n",
      "    'key2': 'value2'\n",
      "}\n",
      "\n",
      "response = requests.post(url, headers=headers, json=data)\n",
      "\n",
      "print(response.json())\n",
      "```\n"
     ]
    }
   ],
   "source": [
    "curlc =\"\"\"\n",
    "curl https://api.openai.com/v1/audio/speech \\\n",
    "  -H \"Authorization: Bearer $OPENAI_API_KEY\" \\\n",
    "  -H \"Content-Type: application/json\" \\\n",
    "  -d '{\n",
    "    \"model\": \"tts-1\",\n",
    "    \"input\": \"The quick brown fox jumped over the lazy dog.\",\n",
    "    \"voice\": \"alloy\"\n",
    "  }'\n",
    "\"\"\"\n",
    "\n",
    "prompt = \"\"\"\n",
    "adapt the following shell script in a brackets [```{curlc}```] into a python script.\n",
    "st\n",
    "\"\"\"\n",
    "\n",
    "response = get_completion(prompt)\n",
    "print(response)"
   ]
  },
  {
   "cell_type": "code",
   "execution_count": 20,
   "metadata": {},
   "outputs": [
    {
     "name": "stdout",
     "output_type": "stream",
     "text": [
      "To download the audio file from the specified endpoint and save it to your directory, you can use the following Python script:\n",
      "\n",
      "```python\n",
      "import requests\n",
      "\n",
      "url = \"https://api.openai.com/v1/audio/speech\"\n",
      "headers = {\n",
      "    \"Authorization\": \"Bearer YOUR_API_KEY\"\n",
      "}\n",
      "\n",
      "response = requests.get(url, headers=headers)\n",
      "\n",
      "if response.status_code == 200:\n",
      "    with open(\"audio.mp3\", \"wb\") as file:\n",
      "        file.write(response.content)\n",
      "        print(\"Audio file saved successfully.\")\n",
      "else:\n",
      "    print(\"Failed to download audio file. Status code:\", response.status_code)\n",
      "```\n",
      "\n",
      "Make sure to replace `YOUR_API_KEY` with your actual OpenAI API key.\n",
      "\n",
      "To play the audio file in Python, you can use the following code using the `pygame` library:\n",
      "\n",
      "```python\n",
      "import pygame\n",
      "\n",
      "pygame.init()\n",
      "pygame.mixer.init()\n",
      "\n",
      "audio_file = \"audio.mp3\"\n",
      "\n",
      "pygame.mixer.music.load(audio_file)\n",
      "pygame.mixer.music.play()\n",
      "\n",
      "while pygame.mixer.music.get_busy():\n",
      "    pygame.time.Clock().tick(10)\n",
      "```\n",
      "\n",
      "This code will play the audio file `audio.mp3` using the `pygame` library. Make sure to have `pygame` installed in your Python environment before running this code.\n"
     ]
    }
   ],
   "source": [
    "\n",
    "prompt = \"\"\"\n",
    "The response from the endpoint into the brackets [https://api.openai.com/v1/audio/speech] is an audio in mp3 format.\n",
    "Generate a script in python to get it and save it into my directory.\n",
    "Generate a code in python to play the audio received.\n",
    "\"\"\"\n",
    "\n",
    "response = get_completion(prompt)\n",
    "print(response)"
   ]
  },
  {
   "cell_type": "code",
   "execution_count": 16,
   "metadata": {},
   "outputs": [
    {
     "name": "stdout",
     "output_type": "stream",
     "text": [
      "200\n",
      "Audio file saved successfully.\n"
     ]
    }
   ],
   "source": [
    "import requests\n",
    "\n",
    "url = 'https://api.openai.com/v1/audio/speech'\n",
    "headers = {\n",
    "    'Content-Type': 'application/json',\n",
    "    'Authorization': 'Bearer '+ os.environ['OPEN_AI_API_KEY']\n",
    "}\n",
    "\n",
    "data = {\n",
    "    \"model\": \"tts-1\",\n",
    "    \"input\": \"Eu sou o Laurindo benjamim\",\n",
    "    \"voice\": \"alloy\"\n",
    "  }\n",
    "\n",
    "response = requests.post(url, headers=headers, json=data)\n",
    "\n",
    "#print(response.json())\n",
    "\n",
    "#response = requests.get(url, headers=headers)\n",
    "\n",
    "print(response.status_code)\n",
    "if response.status_code == 200:\n",
    "    with open(\"audio-pt.mp3\", \"wb\") as file:\n",
    "        file.write(response.content)\n",
    "        print(\"Audio file saved successfully.\")\n",
    "else:\n",
    "    print(\"Failed to download audio file. Status code:\", response.status_code)"
   ]
  },
  {
   "cell_type": "code",
   "execution_count": 20,
   "metadata": {},
   "outputs": [
    {
     "name": "stdout",
     "output_type": "stream",
     "text": [
      "You can use the `pydub` library in Python to convert an audio file in .dat format to mp3. Here's an example code snippet to do this:\n",
      "\n",
      "```python\n",
      "from pydub import AudioSegment\n",
      "\n",
      "# Load the .dat audio file\n",
      "audio = AudioSegment.from_file(\"input_file.dat\", format=\"dat\")\n",
      "\n",
      "# Export the audio file as mp3\n",
      "audio.export(\"output_file.mp3\", format=\"mp3\")\n",
      "```\n",
      "\n",
      "Make sure to install the `pydub` library using pip before running the above code:\n",
      "\n",
      "```\n",
      "pip install pydub\n",
      "```\n",
      "\n",
      "This code snippet will convert the input_file.dat to output_file.mp3 in the same directory.\n"
     ]
    }
   ],
   "source": [
    "error = \"\"\"\n",
    "\n",
    "\"\"\"\n",
    "\n",
    "prompt = f\"\"\"\n",
    "How to convert an audion file in .dat format to mp3 using python.\n",
    "\"\"\"\n",
    "\n",
    "response =  get_completion(prompt)\n",
    "print(response)"
   ]
  },
  {
   "cell_type": "code",
   "execution_count": 22,
   "metadata": {},
   "outputs": [
    {
     "name": "stdout",
     "output_type": "stream",
     "text": [
      "Collecting pydub\n",
      "  Obtaining dependency information for pydub from https://files.pythonhosted.org/packages/a6/53/d78dc063216e62fc55f6b2eebb447f6a4b0a59f55c8406376f76bf959b08/pydub-0.25.1-py2.py3-none-any.whl.metadata\n",
      "  Downloading pydub-0.25.1-py2.py3-none-any.whl.metadata (1.4 kB)\n",
      "Downloading pydub-0.25.1-py2.py3-none-any.whl (32 kB)\n",
      "Installing collected packages: pydub\n",
      "Successfully installed pydub-0.25.1\n"
     ]
    }
   ],
   "source": [
    "!pip install pydub"
   ]
  },
  {
   "cell_type": "code",
   "execution_count": 28,
   "metadata": {},
   "outputs": [
    {
     "ename": "FileNotFoundError",
     "evalue": "[WinError 2] The system cannot find the file specified",
     "output_type": "error",
     "traceback": [
      "\u001b[1;31m---------------------------------------------------------------------------\u001b[0m",
      "\u001b[1;31mFileNotFoundError\u001b[0m                         Traceback (most recent call last)",
      "Cell \u001b[1;32mIn[28], line 4\u001b[0m\n\u001b[0;32m      1\u001b[0m \u001b[38;5;28;01mfrom\u001b[39;00m \u001b[38;5;21;01mpydub\u001b[39;00m \u001b[38;5;28;01mimport\u001b[39;00m AudioSegment\n\u001b[0;32m      3\u001b[0m \u001b[38;5;66;03m# Load the .dat audio file\u001b[39;00m\n\u001b[1;32m----> 4\u001b[0m audio \u001b[38;5;241m=\u001b[39m \u001b[43mAudioSegment\u001b[49m\u001b[38;5;241;43m.\u001b[39;49m\u001b[43mfrom_file\u001b[49m\u001b[43m(\u001b[49m\u001b[38;5;124;43m\"\u001b[39;49m\u001b[38;5;124;43mCasa das Tortas 2.m4a\u001b[39;49m\u001b[38;5;124;43m\"\u001b[39;49m\u001b[43m,\u001b[49m\u001b[43m \u001b[49m\u001b[38;5;28;43mformat\u001b[39;49m\u001b[38;5;241;43m=\u001b[39;49m\u001b[38;5;124;43m\"\u001b[39;49m\u001b[38;5;124;43mm4a\u001b[39;49m\u001b[38;5;124;43m\"\u001b[39;49m\u001b[43m)\u001b[49m\n\u001b[0;32m      6\u001b[0m \u001b[38;5;66;03m# Export the audio file as mp3\u001b[39;00m\n\u001b[0;32m      7\u001b[0m audio\u001b[38;5;241m.\u001b[39mexport(\u001b[38;5;124m\"\u001b[39m\u001b[38;5;124moutput_file.mp3\u001b[39m\u001b[38;5;124m\"\u001b[39m, \u001b[38;5;28mformat\u001b[39m\u001b[38;5;241m=\u001b[39m\u001b[38;5;124m\"\u001b[39m\u001b[38;5;124mmp3\u001b[39m\u001b[38;5;124m\"\u001b[39m)\n",
      "File \u001b[1;32mc:\\Users\\Utilizador\\anaconda3\\Lib\\site-packages\\pydub\\audio_segment.py:728\u001b[0m, in \u001b[0;36mAudioSegment.from_file\u001b[1;34m(cls, file, format, codec, parameters, start_second, duration, **kwargs)\u001b[0m\n\u001b[0;32m    726\u001b[0m     info \u001b[38;5;241m=\u001b[39m \u001b[38;5;28;01mNone\u001b[39;00m\n\u001b[0;32m    727\u001b[0m \u001b[38;5;28;01melse\u001b[39;00m:\n\u001b[1;32m--> 728\u001b[0m     info \u001b[38;5;241m=\u001b[39m \u001b[43mmediainfo_json\u001b[49m\u001b[43m(\u001b[49m\u001b[43morig_file\u001b[49m\u001b[43m,\u001b[49m\u001b[43m \u001b[49m\u001b[43mread_ahead_limit\u001b[49m\u001b[38;5;241;43m=\u001b[39;49m\u001b[43mread_ahead_limit\u001b[49m\u001b[43m)\u001b[49m\n\u001b[0;32m    729\u001b[0m \u001b[38;5;28;01mif\u001b[39;00m info:\n\u001b[0;32m    730\u001b[0m     audio_streams \u001b[38;5;241m=\u001b[39m [x \u001b[38;5;28;01mfor\u001b[39;00m x \u001b[38;5;129;01min\u001b[39;00m info[\u001b[38;5;124m'\u001b[39m\u001b[38;5;124mstreams\u001b[39m\u001b[38;5;124m'\u001b[39m]\n\u001b[0;32m    731\u001b[0m                      \u001b[38;5;28;01mif\u001b[39;00m x[\u001b[38;5;124m'\u001b[39m\u001b[38;5;124mcodec_type\u001b[39m\u001b[38;5;124m'\u001b[39m] \u001b[38;5;241m==\u001b[39m \u001b[38;5;124m'\u001b[39m\u001b[38;5;124maudio\u001b[39m\u001b[38;5;124m'\u001b[39m]\n",
      "File \u001b[1;32mc:\\Users\\Utilizador\\anaconda3\\Lib\\site-packages\\pydub\\utils.py:274\u001b[0m, in \u001b[0;36mmediainfo_json\u001b[1;34m(filepath, read_ahead_limit)\u001b[0m\n\u001b[0;32m    271\u001b[0m         file\u001b[38;5;241m.\u001b[39mclose()\n\u001b[0;32m    273\u001b[0m command \u001b[38;5;241m=\u001b[39m [prober, \u001b[38;5;124m'\u001b[39m\u001b[38;5;124m-of\u001b[39m\u001b[38;5;124m'\u001b[39m, \u001b[38;5;124m'\u001b[39m\u001b[38;5;124mjson\u001b[39m\u001b[38;5;124m'\u001b[39m] \u001b[38;5;241m+\u001b[39m command_args\n\u001b[1;32m--> 274\u001b[0m res \u001b[38;5;241m=\u001b[39m \u001b[43mPopen\u001b[49m\u001b[43m(\u001b[49m\u001b[43mcommand\u001b[49m\u001b[43m,\u001b[49m\u001b[43m \u001b[49m\u001b[43mstdin\u001b[49m\u001b[38;5;241;43m=\u001b[39;49m\u001b[43mstdin_parameter\u001b[49m\u001b[43m,\u001b[49m\u001b[43m \u001b[49m\u001b[43mstdout\u001b[49m\u001b[38;5;241;43m=\u001b[39;49m\u001b[43mPIPE\u001b[49m\u001b[43m,\u001b[49m\u001b[43m \u001b[49m\u001b[43mstderr\u001b[49m\u001b[38;5;241;43m=\u001b[39;49m\u001b[43mPIPE\u001b[49m\u001b[43m)\u001b[49m\n\u001b[0;32m    275\u001b[0m output, stderr \u001b[38;5;241m=\u001b[39m res\u001b[38;5;241m.\u001b[39mcommunicate(\u001b[38;5;28minput\u001b[39m\u001b[38;5;241m=\u001b[39mstdin_data)\n\u001b[0;32m    276\u001b[0m output \u001b[38;5;241m=\u001b[39m output\u001b[38;5;241m.\u001b[39mdecode(\u001b[38;5;124m\"\u001b[39m\u001b[38;5;124mutf-8\u001b[39m\u001b[38;5;124m\"\u001b[39m, \u001b[38;5;124m'\u001b[39m\u001b[38;5;124mignore\u001b[39m\u001b[38;5;124m'\u001b[39m)\n",
      "File \u001b[1;32mc:\\Users\\Utilizador\\anaconda3\\Lib\\subprocess.py:1026\u001b[0m, in \u001b[0;36mPopen.__init__\u001b[1;34m(self, args, bufsize, executable, stdin, stdout, stderr, preexec_fn, close_fds, shell, cwd, env, universal_newlines, startupinfo, creationflags, restore_signals, start_new_session, pass_fds, user, group, extra_groups, encoding, errors, text, umask, pipesize, process_group)\u001b[0m\n\u001b[0;32m   1022\u001b[0m         \u001b[38;5;28;01mif\u001b[39;00m \u001b[38;5;28mself\u001b[39m\u001b[38;5;241m.\u001b[39mtext_mode:\n\u001b[0;32m   1023\u001b[0m             \u001b[38;5;28mself\u001b[39m\u001b[38;5;241m.\u001b[39mstderr \u001b[38;5;241m=\u001b[39m io\u001b[38;5;241m.\u001b[39mTextIOWrapper(\u001b[38;5;28mself\u001b[39m\u001b[38;5;241m.\u001b[39mstderr,\n\u001b[0;32m   1024\u001b[0m                     encoding\u001b[38;5;241m=\u001b[39mencoding, errors\u001b[38;5;241m=\u001b[39merrors)\n\u001b[1;32m-> 1026\u001b[0m     \u001b[38;5;28;43mself\u001b[39;49m\u001b[38;5;241;43m.\u001b[39;49m\u001b[43m_execute_child\u001b[49m\u001b[43m(\u001b[49m\u001b[43margs\u001b[49m\u001b[43m,\u001b[49m\u001b[43m \u001b[49m\u001b[43mexecutable\u001b[49m\u001b[43m,\u001b[49m\u001b[43m \u001b[49m\u001b[43mpreexec_fn\u001b[49m\u001b[43m,\u001b[49m\u001b[43m \u001b[49m\u001b[43mclose_fds\u001b[49m\u001b[43m,\u001b[49m\n\u001b[0;32m   1027\u001b[0m \u001b[43m                        \u001b[49m\u001b[43mpass_fds\u001b[49m\u001b[43m,\u001b[49m\u001b[43m \u001b[49m\u001b[43mcwd\u001b[49m\u001b[43m,\u001b[49m\u001b[43m \u001b[49m\u001b[43menv\u001b[49m\u001b[43m,\u001b[49m\n\u001b[0;32m   1028\u001b[0m \u001b[43m                        \u001b[49m\u001b[43mstartupinfo\u001b[49m\u001b[43m,\u001b[49m\u001b[43m \u001b[49m\u001b[43mcreationflags\u001b[49m\u001b[43m,\u001b[49m\u001b[43m \u001b[49m\u001b[43mshell\u001b[49m\u001b[43m,\u001b[49m\n\u001b[0;32m   1029\u001b[0m \u001b[43m                        \u001b[49m\u001b[43mp2cread\u001b[49m\u001b[43m,\u001b[49m\u001b[43m \u001b[49m\u001b[43mp2cwrite\u001b[49m\u001b[43m,\u001b[49m\n\u001b[0;32m   1030\u001b[0m \u001b[43m                        \u001b[49m\u001b[43mc2pread\u001b[49m\u001b[43m,\u001b[49m\u001b[43m \u001b[49m\u001b[43mc2pwrite\u001b[49m\u001b[43m,\u001b[49m\n\u001b[0;32m   1031\u001b[0m \u001b[43m                        \u001b[49m\u001b[43merrread\u001b[49m\u001b[43m,\u001b[49m\u001b[43m \u001b[49m\u001b[43merrwrite\u001b[49m\u001b[43m,\u001b[49m\n\u001b[0;32m   1032\u001b[0m \u001b[43m                        \u001b[49m\u001b[43mrestore_signals\u001b[49m\u001b[43m,\u001b[49m\n\u001b[0;32m   1033\u001b[0m \u001b[43m                        \u001b[49m\u001b[43mgid\u001b[49m\u001b[43m,\u001b[49m\u001b[43m \u001b[49m\u001b[43mgids\u001b[49m\u001b[43m,\u001b[49m\u001b[43m \u001b[49m\u001b[43muid\u001b[49m\u001b[43m,\u001b[49m\u001b[43m \u001b[49m\u001b[43mumask\u001b[49m\u001b[43m,\u001b[49m\n\u001b[0;32m   1034\u001b[0m \u001b[43m                        \u001b[49m\u001b[43mstart_new_session\u001b[49m\u001b[43m,\u001b[49m\u001b[43m \u001b[49m\u001b[43mprocess_group\u001b[49m\u001b[43m)\u001b[49m\n\u001b[0;32m   1035\u001b[0m \u001b[38;5;28;01mexcept\u001b[39;00m:\n\u001b[0;32m   1036\u001b[0m     \u001b[38;5;66;03m# Cleanup if the child failed starting.\u001b[39;00m\n\u001b[0;32m   1037\u001b[0m     \u001b[38;5;28;01mfor\u001b[39;00m f \u001b[38;5;129;01min\u001b[39;00m \u001b[38;5;28mfilter\u001b[39m(\u001b[38;5;28;01mNone\u001b[39;00m, (\u001b[38;5;28mself\u001b[39m\u001b[38;5;241m.\u001b[39mstdin, \u001b[38;5;28mself\u001b[39m\u001b[38;5;241m.\u001b[39mstdout, \u001b[38;5;28mself\u001b[39m\u001b[38;5;241m.\u001b[39mstderr)):\n",
      "File \u001b[1;32mc:\\Users\\Utilizador\\anaconda3\\Lib\\subprocess.py:1538\u001b[0m, in \u001b[0;36mPopen._execute_child\u001b[1;34m(self, args, executable, preexec_fn, close_fds, pass_fds, cwd, env, startupinfo, creationflags, shell, p2cread, p2cwrite, c2pread, c2pwrite, errread, errwrite, unused_restore_signals, unused_gid, unused_gids, unused_uid, unused_umask, unused_start_new_session, unused_process_group)\u001b[0m\n\u001b[0;32m   1536\u001b[0m \u001b[38;5;66;03m# Start the process\u001b[39;00m\n\u001b[0;32m   1537\u001b[0m \u001b[38;5;28;01mtry\u001b[39;00m:\n\u001b[1;32m-> 1538\u001b[0m     hp, ht, pid, tid \u001b[38;5;241m=\u001b[39m _winapi\u001b[38;5;241m.\u001b[39mCreateProcess(executable, args,\n\u001b[0;32m   1539\u001b[0m                              \u001b[38;5;66;03m# no special security\u001b[39;00m\n\u001b[0;32m   1540\u001b[0m                              \u001b[38;5;28;01mNone\u001b[39;00m, \u001b[38;5;28;01mNone\u001b[39;00m,\n\u001b[0;32m   1541\u001b[0m                              \u001b[38;5;28mint\u001b[39m(\u001b[38;5;129;01mnot\u001b[39;00m close_fds),\n\u001b[0;32m   1542\u001b[0m                              creationflags,\n\u001b[0;32m   1543\u001b[0m                              env,\n\u001b[0;32m   1544\u001b[0m                              cwd,\n\u001b[0;32m   1545\u001b[0m                              startupinfo)\n\u001b[0;32m   1546\u001b[0m \u001b[38;5;28;01mfinally\u001b[39;00m:\n\u001b[0;32m   1547\u001b[0m     \u001b[38;5;66;03m# Child is launched. Close the parent's copy of those pipe\u001b[39;00m\n\u001b[0;32m   1548\u001b[0m     \u001b[38;5;66;03m# handles that only the child should have open.  You need\u001b[39;00m\n\u001b[1;32m   (...)\u001b[0m\n\u001b[0;32m   1551\u001b[0m     \u001b[38;5;66;03m# pipe will not close when the child process exits and the\u001b[39;00m\n\u001b[0;32m   1552\u001b[0m     \u001b[38;5;66;03m# ReadFile will hang.\u001b[39;00m\n\u001b[0;32m   1553\u001b[0m     \u001b[38;5;28mself\u001b[39m\u001b[38;5;241m.\u001b[39m_close_pipe_fds(p2cread, p2cwrite,\n\u001b[0;32m   1554\u001b[0m                          c2pread, c2pwrite,\n\u001b[0;32m   1555\u001b[0m                          errread, errwrite)\n",
      "\u001b[1;31mFileNotFoundError\u001b[0m: [WinError 2] The system cannot find the file specified"
     ]
    }
   ],
   "source": [
    "\n",
    "from pydub import AudioSegment\n",
    "\n",
    "# Load the .dat audio file\n",
    "audio = AudioSegment.from_file(\"Casa das Tortas 2.m4a\", format=\"m4a\")\n",
    "\n",
    "# Export the audio file as mp3\n",
    "audio.export(\"output_file.mp3\", format=\"mp3\")"
   ]
  },
  {
   "cell_type": "code",
   "execution_count": 31,
   "metadata": {},
   "outputs": [
    {
     "name": "stdout",
     "output_type": "stream",
     "text": [
      "No jantar de hoje tivemos uma incidência, o qual uma mesa de passantes turistas, alérgica a crustáceos, porém comeu mesmo assim, ficou a passar mal na casa de banho, foi informado que iriam chamar o INEM para eles, porém a todo instante eles negaram o pedido do INEM, ficando assim por mais de 40 minutos na casa de banho, insistimos em chamar o INEM, foi informado ao diretor de operações Pedro Ribeiro, sobre a situação, para que não venha nenhuma outra ocorrência pelo restaurante, após em torno de uma hora, foram pegar um carro, levaram a menina para casa, e mais uma vez recusando que a gente chamasse o INEM.\n",
      "\n"
     ]
    }
   ],
   "source": [
    "\"\"\"\n",
    "GENERATE A TEXT FROM A SPEECH AUDIO\n",
    "It uses the transcrption method\n",
    "\n",
    "\"\"\"\n",
    "\n",
    "client = OpenAI(\n",
    "  api_key=os.environ['OPEN_AI_API_KEY'],  # this is also the default, it can be omitted\n",
    ")\n",
    "\n",
    "audio_file= open(\"Casa das Tortas 2 (online-audio-converter.com).mp3\", \"rb\")\n",
    "transcription = client.audio.transcriptions.create(\n",
    "  model=\"whisper-1\", \n",
    "  file=audio_file,\n",
    "  response_format=\"text\",\n",
    "  language=\"pt\"\n",
    ")\n",
    "print(transcription)"
   ]
  },
  {
   "cell_type": "code",
   "execution_count": 19,
   "metadata": {},
   "outputs": [
    {
     "name": "stdout",
     "output_type": "stream",
     "text": [
      "I am Laurindo Benjamin.\n"
     ]
    }
   ],
   "source": [
    "\"\"\"\n",
    "GENERATE A TEXT FROM A SPEECH AUDIO\n",
    "It use the translation method\n",
    "\"\"\"\n",
    "\n",
    "client = OpenAI(\n",
    "  api_key=os.environ['OPEN_AI_API_KEY'],  # this is also the default, it can be omitted\n",
    ")\n",
    "\n",
    "audio_file= open(\"audio-pt.mp3\", \"rb\")\n",
    "translation = client.audio.translations.create(\n",
    "  model=\"whisper-1\", \n",
    "  file=audio_file\n",
    ")\n",
    "print(translation.text)"
   ]
  },
  {
   "cell_type": "code",
   "execution_count": null,
   "metadata": {},
   "outputs": [],
   "source": []
  }
 ],
 "metadata": {
  "kernelspec": {
   "display_name": "Python 3",
   "language": "python",
   "name": "python3"
  },
  "language_info": {
   "codemirror_mode": {
    "name": "ipython",
    "version": 3
   },
   "file_extension": ".py",
   "mimetype": "text/x-python",
   "name": "python",
   "nbconvert_exporter": "python",
   "pygments_lexer": "ipython3",
   "version": "3.11.5"
  }
 },
 "nbformat": 4,
 "nbformat_minor": 2
}
