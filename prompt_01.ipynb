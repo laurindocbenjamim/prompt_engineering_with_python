{
 "cells": [
  {
   "cell_type": "code",
   "execution_count": 12,
   "metadata": {},
   "outputs": [
    {
     "name": "stdout",
     "output_type": "stream",
     "text": [
      "Requirement already satisfied: openai in c:\\users\\utilizador\\anaconda3\\lib\\site-packages (1.35.13)\n",
      "Requirement already satisfied: anyio<5,>=3.5.0 in c:\\users\\utilizador\\anaconda3\\lib\\site-packages (from openai) (4.4.0)\n",
      "Requirement already satisfied: distro<2,>=1.7.0 in c:\\users\\utilizador\\anaconda3\\lib\\site-packages (from openai) (1.8.0)\n",
      "Requirement already satisfied: httpx<1,>=0.23.0 in c:\\users\\utilizador\\anaconda3\\lib\\site-packages (from openai) (0.27.0)\n",
      "Requirement already satisfied: pydantic<3,>=1.9.0 in c:\\users\\utilizador\\anaconda3\\lib\\site-packages (from openai) (1.10.12)\n",
      "Requirement already satisfied: sniffio in c:\\users\\utilizador\\anaconda3\\lib\\site-packages (from openai) (1.3.1)\n",
      "Requirement already satisfied: tqdm>4 in c:\\users\\utilizador\\anaconda3\\lib\\site-packages (from openai) (4.65.0)\n",
      "Requirement already satisfied: typing-extensions<5,>=4.7 in c:\\users\\utilizador\\anaconda3\\lib\\site-packages (from openai) (4.9.0)\n",
      "Requirement already satisfied: idna>=2.8 in c:\\users\\utilizador\\anaconda3\\lib\\site-packages (from anyio<5,>=3.5.0->openai) (3.4)\n",
      "Requirement already satisfied: certifi in c:\\users\\utilizador\\anaconda3\\lib\\site-packages (from httpx<1,>=0.23.0->openai) (2023.11.17)\n",
      "Requirement already satisfied: httpcore==1.* in c:\\users\\utilizador\\anaconda3\\lib\\site-packages (from httpx<1,>=0.23.0->openai) (1.0.5)\n",
      "Requirement already satisfied: h11<0.15,>=0.13 in c:\\users\\utilizador\\anaconda3\\lib\\site-packages (from httpcore==1.*->httpx<1,>=0.23.0->openai) (0.14.0)\n",
      "Requirement already satisfied: colorama in c:\\users\\utilizador\\appdata\\roaming\\python\\python311\\site-packages (from tqdm>4->openai) (0.4.6)\n"
     ]
    }
   ],
   "source": [
    "# Installing libraries\n",
    "#!pip install openai\n",
    "!pip install --upgrade openai"
   ]
  },
  {
   "cell_type": "code",
   "execution_count": 1,
   "metadata": {},
   "outputs": [],
   "source": [
    "# Importing libraries\n",
    "import openai\n",
    "import os\n",
    "from openai import OpenAI"
   ]
  },
  {
   "cell_type": "code",
   "execution_count": 4,
   "metadata": {},
   "outputs": [],
   "source": [
    "from dotenv import load_dotenv, find_dotenv\n",
    "_ = load_dotenv(find_dotenv())\n",
    "\n",
    "\"\"\" Approach - changes iteration\n",
    "Old notation: \n",
    "openai.api_key  = os.getenv('OPEN_AI_API_KEY')\n",
    "\n",
    "New notation:\n",
    "\n",
    "from openai import OpenAI\n",
    "\n",
    "client = OpenAI(\n",
    "  api_key=os.environ['OPENAI_API_KEY'],  # this is also the default, it can be omitted\n",
    ")\n",
    "\n",
    "\n",
    "\"\"\"\n",
    "#print(os.environ['OPEN_AI_API_KEY'])\n",
    "#print(os.environ.get('OPEN_AI_API_KEY'))\n",
    "# new\n",
    "\n",
    "client = OpenAI(\n",
    "  api_key=os.environ['OPEN_AI_API_KEY'],  # this is also the default, it can be omitted\n",
    ")\n",
    "\n"
   ]
  },
  {
   "cell_type": "code",
   "execution_count": 5,
   "metadata": {},
   "outputs": [],
   "source": [
    "#  get completion \n",
    "\"\"\" Approach - Changes\n",
    "\n",
    "Old notation:\n",
    "def get_completion(prompt, model=\"gpt-3.5-turbo\"):\n",
    "    messages = [{\"role\": \"user\", \"content\": prompt}]\n",
    "    response = openai.ChatCompletion.create(\n",
    "        model=model,\n",
    "        messages=messages,\n",
    "        temperature=0, # this is the degree of randomness of the model's output\n",
    "    )\n",
    "    return response.choices[0].message[\"content\"]\n",
    "\n",
    "New notation:\n",
    "# new\n",
    "from openai import AsyncOpenAI\n",
    "\n",
    "client = AsyncOpenAI()\n",
    "completion = await client.chat.completions.create(model=\"gpt-3.5-turbo\", messages=[{\"role\": \"user\", \"content\": \"Hello world\"}])\n",
    "\n",
    "\"\"\"\n",
    "\n",
    "\n",
    "\n",
    "\n",
    "# new\n",
    "from openai import AsyncOpenAI\n",
    "\n",
    "#client = AsyncOpenAI()\n",
    "\n",
    "def get_completion(prompt, model=\"gpt-3.5-turbo\"):\n",
    "    messages = [{\"role\": \"user\", \"content\": prompt}]\n",
    "    completion = client.chat.completions.create(model=model, messages=messages, temperature=0)\n",
    "    \"\"\" return completion.choices[0].message[\"content\"] \"\"\"\n",
    "    return completion.choices[0].message.content\n",
    "    "
   ]
  },
  {
   "cell_type": "code",
   "execution_count": 6,
   "metadata": {},
   "outputs": [
    {
     "name": "stdout",
     "output_type": "stream",
     "text": [
      "Providing clear and specific instructions to a model will guide it towards the desired output, reducing the chances of irrelevant or incorrect responses, and longer prompts can provide more clarity and context for more detailed and relevant outputs.\n"
     ]
    }
   ],
   "source": [
    "#\n",
    "\n",
    "text = f\"\"\"\n",
    "You should express what you want a model to do by \\ \n",
    "providing instructions that are as clear and \\ \n",
    "specific as you can possibly make them. \\ \n",
    "This will guide the model towards the desired output, \\ \n",
    "and reduce the chances of receiving irrelevant \\ \n",
    "or incorrect responses. Don't confuse writing a \\ \n",
    "clear prompt with writing a short prompt. \\ \n",
    "In many cases, longer prompts provide more clarity \\ \n",
    "and context for the model, which can lead to \\ \n",
    "more detailed and relevant outputs.\n",
    "\"\"\"\n",
    "prompt = f\"\"\"\n",
    "Summarize the text delimited by triple backticks \\ \n",
    "into a single sentence.\n",
    "```{text}```\n",
    "\"\"\"\n",
    "completion = get_completion(prompt)\n",
    "print(completion)"
   ]
  },
  {
   "cell_type": "code",
   "execution_count": 7,
   "metadata": {},
   "outputs": [
    {
     "name": "stdout",
     "output_type": "stream",
     "text": [
      "[\n",
      "    {\n",
      "        \"book_id\": 1,\n",
      "        \"title\": \"The Midnight Garden\",\n",
      "        \"author\": \"Elena Rivers\",\n",
      "        \"genre\": \"Fantasy\"\n",
      "    },\n",
      "    {\n",
      "        \"book_id\": 2,\n",
      "        \"title\": \"Echoes of the Past\",\n",
      "        \"author\": \"Nathan Black\",\n",
      "        \"genre\": \"Mystery\"\n",
      "    },\n",
      "    {\n",
      "        \"book_id\": 3,\n",
      "        \"title\": \"Whispers in the Wind\",\n",
      "        \"author\": \"Samantha Reed\",\n",
      "        \"genre\": \"Romance\"\n",
      "    }\n",
      "]\n"
     ]
    }
   ],
   "source": [
    "prompt = f\"\"\"\n",
    "Generate a list of three made-up book titles along \\ \n",
    "with their authors and genres. \n",
    "Provide them in JSON format with the following keys: \n",
    "book_id, title, author, genre.\n",
    "\"\"\"\n",
    "response = get_completion(prompt)\n",
    "print(response)"
   ]
  },
  {
   "cell_type": "code",
   "execution_count": 8,
   "metadata": {},
   "outputs": [],
   "source": [
    "\n",
    "phonenumberULR = 'https://worldpopulationreview.com/country-rankings/phone-number-length-by-country'\n",
    "with_length = 'https://www.iban.com/dialing-codes'\n",
    "\n",
    "url = \"https://www.countrycode.org/\"\n",
    "prompt = f\"\"\"\n",
    "Extract all tables data from the ```{with_length}```. \n",
    "Organize them in JSON format where the keys are the table columns and the values the tables rows.\n",
    "\"\"\"\n",
    "response = get_completion(prompt)\n",
    "json_data = response\n"
   ]
  },
  {
   "cell_type": "code",
   "execution_count": 9,
   "metadata": {},
   "outputs": [
    {
     "name": "stdout",
     "output_type": "stream",
     "text": [
      "\"{\\n  \\\"Country\\\": [\\n    \\\"Afghanistan\\\",\\n    \\\"Albania\\\",\\n    \\\"Algeria\\\",\\n    \\\"American Samoa\\\",\\n    \\\"Andorra\\\",\\n    \\\"Angola\\\",\\n    \\\"Anguilla\\\",\\n    \\\"Antarctica\\\",\\n    \\\"Antigua and Barbuda\\\",\\n    \\\"Argentina\\\",\\n    \\\"Armenia\\\",\\n    \\\"Aruba\\\",\\n    \\\"Australia\\\",\\n    \\\"Austria\\\",\\n    \\\"Azerbaijan\\\",\\n    \\\"Bahamas\\\",\\n    \\\"Bahrain\\\",\\n    \\\"Bangladesh\\\",\\n    \\\"Barbados\\\",\\n    \\\"Belarus\\\",\\n    \\\"Belgium\\\",\\n    \\\"Belize\\\",\\n    \\\"Benin\\\",\\n    \\\"Bermuda\\\",\\n    \\\"Bhutan\\\",\\n    \\\"Bolivia\\\",\\n    \\\"Bosnia and Herzegovina\\\",\\n    \\\"Botswana\\\",\\n    \\\"Brazil\\\",\\n    \\\"British Indian Ocean Territory\\\",\\n    \\\"British Virgin Islands\\\",\\n    \\\"Brunei\\\",\\n    \\\"Bulgaria\\\",\\n    \\\"Burkina Faso\\\",\\n    \\\"Burundi\\\",\\n    \\\"Cambodia\\\",\\n    \\\"Cameroon\\\",\\n    \\\"Canada\\\",\\n    \\\"Cape Verde\\\",\\n    \\\"Cayman Islands\\\",\\n    \\\"Central African Republic\\\",\\n    \\\"Chad\\\",\\n    \\\"Chile\\\",\\n    \\\"China\\\",\\n    \\\"Christmas Island\\\",\\n    \\\"Cocos Islands\\\",\\n    \\\"Colombia\\\",\\n    \\\"Comoros\\\",\\n    \\\"Cook Islands\\\",\\n    \\\"Costa Rica\\\",\\n    \\\"Croatia\\\",\\n    \\\"Cuba\\\",\\n    \\\"Curacao\\\",\\n    \\\"Cyprus\\\",\\n    \\\"Czech Republic\\\",\\n    \\\"Democratic Republic of the Congo\\\",\\n    \\\"Denmark\\\",\\n    \\\"Djibouti\\\",\\n    \\\"Dominica\\\",\\n    \\\"Dominican Republic\\\",\\n    \\\"East Timor\\\",\\n    \\\"Ecuador\\\",\\n    \\\"Egypt\\\",\\n    \\\"El Salvador\\\",\\n    \\\"Equatorial Guinea\\\",\\n    \\\"Eritrea\\\",\\n    \\\"Estonia\\\",\\n    \\\"Ethiopia\\\",\\n    \\\"Falkland Islands\\\",\\n    \\\"Faroe Islands\\\",\\n    \\\"Fiji\\\",\\n    \\\"Finland\\\",\\n    \\\"France\\\",\\n    \\\"French Polynesia\\\",\\n    \\\"Gabon\\\",\\n    \\\"Gambia\\\",\\n    \\\"Georgia\\\",\\n    \\\"Germany\\\",\\n    \\\"Ghana\\\",\\n    \\\"Gibraltar\\\",\\n    \\\"Greece\\\",\\n    \\\"Greenland\\\",\\n    \\\"Grenada\\\",\\n    \\\"Guam\\\",\\n    \\\"Guatemala\\\",\\n    \\\"Guernsey\\\",\\n    \\\"Guinea\\\",\\n    \\\"Guinea-Bissau\\\",\\n    \\\"Guyana\\\",\\n    \\\"Haiti\\\",\\n    \\\"Honduras\\\",\\n    \\\"Hong Kong\\\",\\n    \\\"Hungary\\\",\\n    \\\"Iceland\\\",\\n    \\\"India\\\",\\n    \\\"Indonesia\\\",\\n    \\\"Iran\\\",\\n    \\\"Iraq\\\",\\n    \\\"Ireland\\\",\\n    \\\"Isle of Man\\\",\\n    \\\"Israel\\\",\\n    \\\"Italy\\\",\\n    \\\"Ivory Coast\\\",\\n    \\\"Jamaica\\\",\\n    \\\"Japan\\\",\\n    \\\"Jersey\\\",\\n    \\\"Jordan\\\",\\n    \\\"Kazakhstan\\\",\\n    \\\"Kenya\\\",\\n    \\\"Kiribati\\\",\\n    \\\"Kosovo\\\",\\n    \\\"Kuwait\\\",\\n    \\\"Kyrgyzstan\\\",\\n    \\\"Laos\\\",\\n    \\\"Latvia\\\",\\n    \\\"Lebanon\\\",\\n    \\\"Lesotho\\\",\\n    \\\"Liberia\\\",\\n    \\\"Libya\\\",\\n    \\\"Liechtenstein\\\",\\n    \\\"Lithuania\\\",\\n    \\\"Luxembourg\\\",\\n    \\\"Macau\\\",\\n    \\\"Macedonia\\\",\\n    \\\"Madagascar\\\",\\n    \\\"Malawi\\\",\\n    \\\"Malaysia\\\",\\n    \\\"Maldives\\\",\\n    \\\"Mali\\\",\\n    \\\"Malta\\\",\\n    \\\"Marshall Islands\\\",\\n    \\\"Mauritania\\\",\\n    \\\"Mauritius\\\",\\n    \\\"Mayotte\\\",\\n    \\\"Mexico\\\",\\n    \\\"Micronesia\\\",\\n    \\\"Moldova\\\",\\n    \\\"Monaco\\\",\\n    \\\"Mongolia\\\",\\n    \\\"Montenegro\\\",\\n    \\\"Montserrat\\\",\\n    \\\"Morocco\\\",\\n    \\\"Mozambique\\\",\\n    \\\"Myanmar\\\",\\n    \\\"Namibia\\\",\\n    \\\"Nauru\\\",\\n    \\\"Nepal\\\",\\n    \\\"Netherlands\\\",\\n    \\\"Netherlands Antilles\\\",\\n    \\\"New Caledonia\\\",\\n    \\\"New Zealand\\\",\\n    \\\"Nicaragua\\\",\\n    \\\"Niger\\\",\\n    \\\"Nigeria\\\",\\n    \\\"Niue\\\",\\n    \\\"North Korea\\\",\\n    \\\"Northern Mariana Islands\\\",\\n    \\\"Norway\\\",\\n    \\\"Oman\\\",\\n    \\\"Pakistan\\\",\\n    \\\"Palau\\\",\\n    \\\"Palestine\\\",\\n    \\\"Panama\\\",\\n    \\\"Papua New Guinea\\\",\\n    \\\"Paraguay\\\",\\n    \\\"Peru\\\",\\n    \\\"Philippines\\\",\\n    \\\"Pitcairn Islands\\\",\\n    \\\"Poland\\\",\\n    \\\"Portugal\\\",\\n    \\\"Puerto Rico\\\",\\n    \\\"Qatar\\\",\\n    \\\"Republic of the Congo\\\",\\n    \\\"Romania\\\",\\n    \\\"Russia\\\",\\n    \\\"Rwanda\\\",\\n    \\\"Saint Barthelemy\\\",\\n    \\\"Saint Helena\\\",\\n    \\\"Saint Kitts and Nevis\\\",\\n    \\\"Saint Lucia\\\",\\n    \\\"Saint Martin\\\",\\n    \\\"Saint Pierre and Miquelon\\\",\\n    \\\"Saint Vincent and the Grenadines\\\",\\n    \\\"Samoa\\\",\\n    \\\"San Marino\\\",\\n    \\\"Sao Tome and Principe\\\",\\n    \\\"Saudi Arabia\\\",\\n    \\\"Senegal\\\",\\n    \\\"Serbia\\\",\\n    \\\"Seychelles\\\",\\n    \\\"Sierra Leone\\\",\\n    \\\"Singapore\\\",\\n    \\\"Sint Maarten\\\",\\n    \\\"Slovakia\\\",\\n    \\\"Slovenia\\\",\\n    \\\"Solomon Islands\\\",\\n    \\\"Somalia\\\",\\n    \\\"South Africa\\\",\\n    \\\"South Korea\\\",\\n    \\\"South Sudan\\\",\\n    \\\"Spain\\\",\\n    \\\"Sri Lanka\\\",\\n    \\\"Sudan\\\",\\n    \\\"Suriname\\\",\\n    \\\"Swaziland\\\",\\n    \\\"Sweden\\\",\\n    \\\"Switzerland\\\",\\n    \\\"Syria\\\",\\n    \\\"Taiwan\\\",\\n    \\\"Tajikistan\\\",\\n    \\\"Tanzania\\\",\\n    \\\"Thailand\\\",\\n    \\\"Togo\\\",\\n    \\\"Tokelau\\\",\\n    \\\"Tonga\\\",\\n    \\\"Trinidad and Tobago\\\",\\n    \\\"Tunisia\\\",\\n    \\\"Turkey\\\",\\n    \\\"Turkmenistan\\\",\\n    \\\"Turks and Caicos Islands\\\",\\n    \\\"Tuvalu\\\",\\n    \\\"U.S. Virgin Islands\\\",\\n    \\\"Uganda\\\",\\n    \\\"Ukraine\\\",\\n    \\\"United Arab Emirates\\\",\\n    \\\"United Kingdom\\\",\\n    \\\"United States\\\",\\n    \\\"Uruguay\\\",\\n    \\\"Uzbekistan\\\",\\n    \\\"Vanuatu\\\",\\n    \\\"Vatican\\\",\\n    \\\"Venezuela\\\",\\n    \\\"Vietnam\\\",\\n    \\\"Wallis and Futuna\\\",\\n    \\\"Western Sahara\\\",\\n    \\\"Yemen\\\",\\n    \\\"Zambia\\\",\\n    \\\"Zimbabwe\\\"\\n  ],\\n  \\\"Dialing Code\\\": [\\n    \\\"93\\\",\\n    \\\"355\\\",\\n    \\\"213\\\",\\n    \\\"1\\\",\\n    \\\"376\\\",\\n    \\\"244\\\",\\n    \\\"1\\\",\\n    \\\"672\\\",\\n    \\\"1\\\",\\n    \\\"54\\\",\\n    \\\"374\\\",\\n    \\\"297\\\",\\n    \\\"61\\\",\\n    \\\"43\\\",\\n    \\\"994\\\",\\n    \\\"1\\\",\\n    \\\"973\\\",\\n    \\\"880\\\",\\n    \\\"1\\\",\\n    \\\"375\\\",\\n    \\\"32\\\",\\n    \\\"501\\\",\\n    \\\"229\\\",\\n    \\\"1\\\",\\n    \\\"975\\\",\\n    \\\"591\\\",\\n    \\\"387\\\",\\n    \\\"267\\\",\\n    \\\"55\\\",\\n    \\\"246\\\",\\n    \\\"1\\\",\\n    \\\"673\\\",\\n    \\\"359\\\",\\n    \\\"226\\\",\\n    \\\"257\\\",\\n    \\\"855\\\",\\n    \\\"237\\\",\\n    \\\"1\\\",\\n    \\\"238\\\",\\n    \\\"1\\\",\\n    \\\"236\\\",\\n    \\\"235\\\",\\n    \\\"56\\\",\\n    \\\"86\\\",\\n    \\\"61\\\",\\n    \\\"61\\\",\\n    \\\"57\\\",\\n    \\\"269\\\",\\n    \\\"682\\\",\\n    \\\"506\\\",\\n    \\\"385\\\",\\n    \\\"53\\\",\\n    \\\"599\\\",\\n    \\\"357\\\",\\n    \\\"420\\\",\\n    \\\"243\\\",\\n    \\\"45\\\",\\n    \\\"253\\\",\\n    \\\"1\\\",\\n    \\\"1\\\",\\n    \\\"670\\\",\\n    \\\"593\\\",\\n    \\\"20\\\",\\n    \\\"503\\\",\\n    \\\"240\\\",\\n    \\\"291\\\",\\n    \\\"372\\\",\\n    \\\"251\\\",\\n    \\\"500\\\",\\n    \\\"298\\\",\\n    \\\"679\\\",\\n    \\\"358\\\",\\n    \\\"33\\\",\\n    \\\"689\\\",\\n    \\\"241\\\",\\n    \\\"220\\\",\\n    \\\"995\\\",\\n    \\\"49\\\",\\n    \\\"233\\\",\\n    \\\"350\\\",\\n    \\\"30\\\",\\n    \\\"299\\\",\\n    \\\"1\\\",\\n    \\\"502\\\",\\n    \\\"44\\\",\\n    \\\"224\\\",\\n    \\\"245\\\",\\n    \\\"592\\\",\\n    \\\"509\\\",\\n    \\\"504\\\",\\n    \\\"852\\\",\\n    \\\"36\\\",\\n    \\\"354\\\",\\n    \\\"91\\\",\\n    \\\"62\\\",\\n    \\\"98\\\",\\n    \\\"964\\\",\\n    \\\"353\\\",\\n    \\\"44\\\",\\n    \\\"972\\\",\\n    \\\"39\\\",\\n    \\\"225\\\",\\n    \\\"1\\\",\\n    \\\"81\\\",\\n    \\\"44\\\",\\n    \\\"962\\\",\\n    \\\"7\\\",\\n    \\\"254\\\",\\n    \\\"686\\\",\\n    \\\"383\\\",\\n    \\\"965\\\",\\n    \\\"996\\\",\\n    \\\"856\\\",\\n    \\\"371\\\",\\n    \\\"961\\\",\\n    \\\"266\\\",\\n    \\\"231\\\",\\n    \\\"218\\\",\\n    \\\"423\\\",\\n    \\\"370\\\",\\n    \\\"352\\\",\\n    \\\"853\\\",\\n    \\\"389\\\",\\n    \\\"261\\\",\\n    \\\"265\\\",\\n    \\\"60\\\",\\n    \\\"960\\\",\\n    \\\"223\\\",\\n    \\\"356\\\",\\n    \\\"692\\\",\\n    \\\"222\\\",\\n    \\\"230\\\",\\n    \\\"262\\\",\\n    \\\"52\\\",\\n    \\\"691\\\",\\n    \\\"373\\\",\\n    \\\"377\\\",\\n    \\\"976\\\",\\n    \\\"382\\\",\\n    \\\"1\\\",\\n    \\\"212\\\",\\n    \\\"258\\\",\\n    \\\"95\\\",\\n    \\\"264\\\",\\n    \\\"674\\\",\\n    \\\"977\\\",\\n    \\\"31\\\",\\n    \\\"599\\\",\\n    \\\"687\\\",\\n    \\\"64\\\",\\n    \\\"505\\\",\\n    \\\"227\\\",\\n    \\\"234\\\",\\n    \\\"683\\\",\\n    \\\"850\\\",\\n    \\\"1\\\",\\n    \\\"47\\\",\\n    \\\"968\\\",\\n    \\\"92\\\",\\n    \\\"680\\\",\\n    \\\"970\\\",\\n    \\\"507\\\",\\n    \\\"675\\\",\\n    \\\"595\\\",\\n    \\\"51\\\",\\n    \\\"63\\\",\\n    \\\"64\\\",\\n    \\\"48\\\",\\n    \\\"351\\\",\\n    \\\"1\\\",\\n    \\\"974\\\",\\n    \\\"242\\\",\\n    \\\"40\\\",\\n    \\\"7\\\",\\n    \\\"250\\\",\\n    \\\"590\\\",\\n    \\\"290\\\",\\n    \\\"1\\\",\\n    \\\"1\\\",\\n    \\\"508\\\",\\n    \\\"1\\\",\\n    \\\"685\\\",\\n    \\\"378\\\",\\n    \\\"239\\\",\\n    \\\"966\\\",\\n    \\\"221\\\",\\n    \\\"381\\\",\\n    \\\"248\\\",\\n    \\\"232\\\",\\n    \\\"65\\\",\\n    \\\"1\\\",\\n    \\\"421\\\",\\n    \\\"386\\\",\\n    \\\"677\\\",\\n    \\\"252\\\",\\n    \\\"27\\\",\\n    \\\"82\\\",\\n    \\\"211\\\",\\n    \\\"34\\\",\\n    \\\"94\\\",\\n    \\\"249\\\",\\n    \\\"597\\\",\\n    \\\"268\\\",\\n    \\\"46\\\",\\n    \\\"41\\\",\\n    \\\"963\\\",\\n    \\\"886\\\",\\n    \\\"992\\\",\\n    \\\"255\\\",\\n    \\\"66\\\",\\n    \\\"228\\\",\\n    \\\"690\\\",\\n    \\\"676\\\",\\n    \\\"1\\\",\\n    \\\"216\\\",\\n    \\\"90\\\",\\n    \\\"993\\\",\\n    \\\"1\\\",\\n    \\\"688\\\",\\n    \\\"1\\\",\\n    \\\"256\\\",\\n    \\\"380\\\",\\n    \\\"971\\\",\\n    \\\"44\\\",\\n    \\\"1\\\",\\n    \\\"598\\\",\\n    \\\"998\\\",\\n    \\\"678\\\",\\n    \\\"379\\\",\\n    \\\"58\\\",\\n    \\\"84\\\",\\n    \\\"681\\\",\\n    \\\"212\\\",\\n    \\\"967\\\",\\n    \\\"260\\\",\\n    \\\"263\\\"\\n  ]\\n}\"\n"
     ]
    }
   ],
   "source": [
    "# Format the JSON data\n",
    "import json\n",
    "formatted_json = json.dumps(json_data, indent=4)\n",
    "\n",
    "print(formatted_json)"
   ]
  },
  {
   "cell_type": "code",
   "execution_count": 11,
   "metadata": {},
   "outputs": [
    {
     "name": "stdout",
     "output_type": "stream",
     "text": [
      "There are several libraries in Python that can be used to extract data from .pdf or .doc format for data analysis. Some of the most commonly used libraries are:\n",
      "\n",
      "1. PyPDF2: A library for reading and extracting text from PDF files.\n",
      "   - Install using pip: `pip install PyPDF2`\n",
      "\n",
      "2. pdfminer.six: A library for extracting text, images, and metadata from PDF files.\n",
      "   - Install using pip: `pip install pdfminer.six`\n",
      "\n",
      "3. textract: A library that can extract text from various file formats including PDF and DOC.\n",
      "   - Install using pip: `pip install textract`\n",
      "\n",
      "4. python-docx: A library for reading and writing .docx files.\n",
      "   - Install using pip: `pip install python-docx`\n",
      "\n",
      "5. pdftotext: A library that can extract text from PDF files using the pdftotext command line tool.\n",
      "   - Install using pip: `pip install pdftotext`\n",
      "\n",
      "These libraries can be used to extract text and other data from .pdf or .doc files, which can then be used for data analysis in Python.\n"
     ]
    }
   ],
   "source": [
    "prompt = f\"\"\" \n",
    "    How to extract data from .pdf or .doc format in python for data analysis!.\n",
    "    List the most used libraries with its pip command to install them\n",
    "    \n",
    "\"\"\"\n",
    "\n",
    "response = get_completion(prompt)\n",
    "print(response)\n"
   ]
  },
  {
   "cell_type": "code",
   "execution_count": 54,
   "metadata": {},
   "outputs": [
    {
     "name": "stdout",
     "output_type": "stream",
     "text": [
      "Data saved into JSON file successfully.\n"
     ]
    }
   ],
   "source": [
    "import json\n",
    "\n",
    "# Save data into JSON file\n",
    "with open(\"data2.json\", \"w\") as file:\n",
    "    json.dump(json_data, file)\n",
    "\n",
    "print(\"Data saved into JSON file successfully.\")"
   ]
  },
  {
   "cell_type": "code",
   "execution_count": 12,
   "metadata": {},
   "outputs": [
    {
     "name": "stdout",
     "output_type": "stream",
     "text": [
      "{\n",
      "  \"research\": {\n",
      "    \"title\": \"Research\",\n",
      "    \"description\": \"Access to a wide range of research providers and news sources to help you make more informed trading decisions.\",\n",
      "    \"pricing\": {\n",
      "      \"provider\": {\n",
      "        \"name\": \"Research Providers\",\n",
      "        \"description\": \"Access to research reports, analyst recommendations, and more from leading providers.\",\n",
      "        \"price\": \"$0.00\"\n",
      "      },\n",
      "      \"news\": {\n",
      "        \"name\": \"News\",\n",
      "        \"description\": \"Access to real-time news from leading sources to stay informed on market developments.\",\n",
      "        \"price\": \"$0.00\"\n",
      "      },\n",
      "      \"market_data\": {\n",
      "        \"name\": \"Market Data\",\n",
      "        \"description\": \"Access to real-time market data to help you track prices and trends.\",\n",
      "        \"price\": \"$0.00\"\n",
      "      }\n",
      "    }\n",
      "  }\n",
      "}\n"
     ]
    }
   ],
   "source": [
    "url = \"https://www.interactivebrokers.ie/en/pricing/research-news-marketdata.php\"\n",
    "prompt = f\"\"\" \n",
    "Extract all data from the following website ```{url}```\n",
    "Step-1: Organize the data from tables into a JSON fromat\n",
    "\n",
    "\"\"\"\n",
    "\n",
    "response = get_completion(prompt)\n",
    "print(response)\n"
   ]
  },
  {
   "cell_type": "code",
   "execution_count": 16,
   "metadata": {},
   "outputs": [
    {
     "name": "stdout",
     "output_type": "stream",
     "text": [
      "```{python}\n",
      "import requests\n",
      "\n",
      "url = 'https://api.example.com/data'\n",
      "headers = {\n",
      "    'Content-Type': 'application/json',\n",
      "    'Authorization': 'Bearer YOUR_ACCESS_TOKEN'\n",
      "}\n",
      "\n",
      "data = {\n",
      "    'key1': 'value1',\n",
      "    'key2': 'value2'\n",
      "}\n",
      "\n",
      "response = requests.post(url, headers=headers, json=data)\n",
      "\n",
      "print(response.json())\n",
      "```\n"
     ]
    }
   ],
   "source": [
    "curlc =\"\"\"\n",
    "curl https://api.openai.com/v1/audio/speech \\\n",
    "  -H \"Authorization: Bearer $OPENAI_API_KEY\" \\\n",
    "  -H \"Content-Type: application/json\" \\\n",
    "  -d '{\n",
    "    \"model\": \"tts-1\",\n",
    "    \"input\": \"The quick brown fox jumped over the lazy dog.\",\n",
    "    \"voice\": \"alloy\"\n",
    "  }'\n",
    "\"\"\"\n",
    "\n",
    "prompt = \"\"\"\n",
    "adapt the following shell script in a brackets [```{curlc}```] into a python script.\n",
    "st\n",
    "\"\"\"\n",
    "\n",
    "response = get_completion(prompt)\n",
    "print(response)"
   ]
  },
  {
   "cell_type": "code",
   "execution_count": 20,
   "metadata": {},
   "outputs": [
    {
     "name": "stdout",
     "output_type": "stream",
     "text": [
      "To download the audio file from the specified endpoint and save it to your directory, you can use the following Python script:\n",
      "\n",
      "```python\n",
      "import requests\n",
      "\n",
      "url = \"https://api.openai.com/v1/audio/speech\"\n",
      "headers = {\n",
      "    \"Authorization\": \"Bearer YOUR_API_KEY\"\n",
      "}\n",
      "\n",
      "response = requests.get(url, headers=headers)\n",
      "\n",
      "if response.status_code == 200:\n",
      "    with open(\"audio.mp3\", \"wb\") as file:\n",
      "        file.write(response.content)\n",
      "        print(\"Audio file saved successfully.\")\n",
      "else:\n",
      "    print(\"Failed to download audio file. Status code:\", response.status_code)\n",
      "```\n",
      "\n",
      "Make sure to replace `YOUR_API_KEY` with your actual OpenAI API key.\n",
      "\n",
      "To play the audio file in Python, you can use the following code using the `pygame` library:\n",
      "\n",
      "```python\n",
      "import pygame\n",
      "\n",
      "pygame.init()\n",
      "pygame.mixer.init()\n",
      "\n",
      "audio_file = \"audio.mp3\"\n",
      "\n",
      "pygame.mixer.music.load(audio_file)\n",
      "pygame.mixer.music.play()\n",
      "\n",
      "while pygame.mixer.music.get_busy():\n",
      "    pygame.time.Clock().tick(10)\n",
      "```\n",
      "\n",
      "This code will play the audio file `audio.mp3` using the `pygame` library. Make sure to have `pygame` installed in your Python environment before running this code.\n"
     ]
    }
   ],
   "source": [
    "\n",
    "prompt = \"\"\"\n",
    "The response from the endpoint into the brackets [https://api.openai.com/v1/audio/speech] is an audio in mp3 format.\n",
    "Generate a script in python to get it and save it into my directory.\n",
    "Generate a code in python to play the audio received.\n",
    "\"\"\"\n",
    "\n",
    "response = get_completion(prompt)\n",
    "print(response)"
   ]
  },
  {
   "cell_type": "code",
   "execution_count": 16,
   "metadata": {},
   "outputs": [
    {
     "name": "stdout",
     "output_type": "stream",
     "text": [
      "200\n",
      "Audio file saved successfully.\n"
     ]
    }
   ],
   "source": [
    "import requests\n",
    "\n",
    "url = 'https://api.openai.com/v1/audio/speech'\n",
    "headers = {\n",
    "    'Content-Type': 'application/json',\n",
    "    'Authorization': 'Bearer '+ os.environ['OPEN_AI_API_KEY']\n",
    "}\n",
    "\n",
    "data = {\n",
    "    \"model\": \"tts-1\",\n",
    "    \"input\": \"Eu sou o Laurindo benjamim\",\n",
    "    \"voice\": \"alloy\"\n",
    "  }\n",
    "\n",
    "response = requests.post(url, headers=headers, json=data)\n",
    "\n",
    "#print(response.json())\n",
    "\n",
    "#response = requests.get(url, headers=headers)\n",
    "\n",
    "print(response.status_code)\n",
    "if response.status_code == 200:\n",
    "    with open(\"audio-pt.mp3\", \"wb\") as file:\n",
    "        file.write(response.content)\n",
    "        print(\"Audio file saved successfully.\")\n",
    "else:\n",
    "    print(\"Failed to download audio file. Status code:\", response.status_code)"
   ]
  },
  {
   "cell_type": "code",
   "execution_count": 20,
   "metadata": {},
   "outputs": [
    {
     "name": "stdout",
     "output_type": "stream",
     "text": [
      "You can use the `pydub` library in Python to convert an audio file in .dat format to mp3. Here's an example code snippet to do this:\n",
      "\n",
      "```python\n",
      "from pydub import AudioSegment\n",
      "\n",
      "# Load the .dat audio file\n",
      "audio = AudioSegment.from_file(\"input_file.dat\", format=\"dat\")\n",
      "\n",
      "# Export the audio file as mp3\n",
      "audio.export(\"output_file.mp3\", format=\"mp3\")\n",
      "```\n",
      "\n",
      "Make sure to install the `pydub` library using pip before running the above code:\n",
      "\n",
      "```\n",
      "pip install pydub\n",
      "```\n",
      "\n",
      "This code snippet will convert the input_file.dat to output_file.mp3 in the same directory.\n"
     ]
    }
   ],
   "source": [
    "error = \"\"\"\n",
    "\n",
    "\"\"\"\n",
    "\n",
    "prompt = f\"\"\"\n",
    "How to convert an audion file in .dat format to mp3 using python.\n",
    "\"\"\"\n",
    "\n",
    "response =  get_completion(prompt)\n",
    "print(response)"
   ]
  },
  {
   "cell_type": "code",
   "execution_count": 80,
   "metadata": {},
   "outputs": [
    {
     "name": "stdout",
     "output_type": "stream",
     "text": [
      "Requirement already satisfied: pydub in c:\\users\\utilizador\\anaconda3\\lib\\site-packages (0.25.1)\n"
     ]
    }
   ],
   "source": [
    "!pip install --upgrade pydub"
   ]
  },
  {
   "cell_type": "code",
   "execution_count": 81,
   "metadata": {},
   "outputs": [
    {
     "name": "stderr",
     "output_type": "stream",
     "text": [
      "c:\\Users\\Utilizador\\anaconda3\\Lib\\site-packages\\pydub\\utils.py:198: RuntimeWarning: Couldn't find ffprobe or avprobe - defaulting to ffprobe, but may not work\n",
      "  warn(\"Couldn't find ffprobe or avprobe - defaulting to ffprobe, but may not work\", RuntimeWarning)\n"
     ]
    },
    {
     "ename": "FileNotFoundError",
     "evalue": "[WinError 2] The system cannot find the file specified",
     "output_type": "error",
     "traceback": [
      "\u001b[1;31m---------------------------------------------------------------------------\u001b[0m",
      "\u001b[1;31mFileNotFoundError\u001b[0m                         Traceback (most recent call last)",
      "Cell \u001b[1;32mIn[81], line 4\u001b[0m\n\u001b[0;32m      1\u001b[0m \u001b[38;5;28;01mfrom\u001b[39;00m \u001b[38;5;21;01mpydub\u001b[39;00m \u001b[38;5;28;01mimport\u001b[39;00m AudioSegment\n\u001b[0;32m      3\u001b[0m \u001b[38;5;66;03m# Load the .dat audio file\u001b[39;00m\n\u001b[1;32m----> 4\u001b[0m audio \u001b[38;5;241m=\u001b[39m \u001b[43mAudioSegment\u001b[49m\u001b[38;5;241;43m.\u001b[39;49m\u001b[43mfrom_file\u001b[49m\u001b[43m(\u001b[49m\u001b[38;5;124;43m\"\u001b[39;49m\u001b[38;5;124;43mCasa das Tortas 2.m4a\u001b[39;49m\u001b[38;5;124;43m\"\u001b[39;49m\u001b[43m,\u001b[49m\u001b[43m \u001b[49m\u001b[38;5;28;43mformat\u001b[39;49m\u001b[38;5;241;43m=\u001b[39;49m\u001b[38;5;124;43m\"\u001b[39;49m\u001b[38;5;124;43mm4a\u001b[39;49m\u001b[38;5;124;43m\"\u001b[39;49m\u001b[43m)\u001b[49m\n\u001b[0;32m      6\u001b[0m \u001b[38;5;66;03m# Export the audio file as mp3\u001b[39;00m\n\u001b[0;32m      7\u001b[0m audio\u001b[38;5;241m.\u001b[39mexport(\u001b[38;5;124m\"\u001b[39m\u001b[38;5;124moutput_file.mp3\u001b[39m\u001b[38;5;124m\"\u001b[39m, \u001b[38;5;28mformat\u001b[39m\u001b[38;5;241m=\u001b[39m\u001b[38;5;124m\"\u001b[39m\u001b[38;5;124mmp3\u001b[39m\u001b[38;5;124m\"\u001b[39m)\n",
      "File \u001b[1;32mc:\\Users\\Utilizador\\anaconda3\\Lib\\site-packages\\pydub\\audio_segment.py:728\u001b[0m, in \u001b[0;36mAudioSegment.from_file\u001b[1;34m(cls, file, format, codec, parameters, start_second, duration, **kwargs)\u001b[0m\n\u001b[0;32m    726\u001b[0m     info \u001b[38;5;241m=\u001b[39m \u001b[38;5;28;01mNone\u001b[39;00m\n\u001b[0;32m    727\u001b[0m \u001b[38;5;28;01melse\u001b[39;00m:\n\u001b[1;32m--> 728\u001b[0m     info \u001b[38;5;241m=\u001b[39m \u001b[43mmediainfo_json\u001b[49m\u001b[43m(\u001b[49m\u001b[43morig_file\u001b[49m\u001b[43m,\u001b[49m\u001b[43m \u001b[49m\u001b[43mread_ahead_limit\u001b[49m\u001b[38;5;241;43m=\u001b[39;49m\u001b[43mread_ahead_limit\u001b[49m\u001b[43m)\u001b[49m\n\u001b[0;32m    729\u001b[0m \u001b[38;5;28;01mif\u001b[39;00m info:\n\u001b[0;32m    730\u001b[0m     audio_streams \u001b[38;5;241m=\u001b[39m [x \u001b[38;5;28;01mfor\u001b[39;00m x \u001b[38;5;129;01min\u001b[39;00m info[\u001b[38;5;124m'\u001b[39m\u001b[38;5;124mstreams\u001b[39m\u001b[38;5;124m'\u001b[39m]\n\u001b[0;32m    731\u001b[0m                      \u001b[38;5;28;01mif\u001b[39;00m x[\u001b[38;5;124m'\u001b[39m\u001b[38;5;124mcodec_type\u001b[39m\u001b[38;5;124m'\u001b[39m] \u001b[38;5;241m==\u001b[39m \u001b[38;5;124m'\u001b[39m\u001b[38;5;124maudio\u001b[39m\u001b[38;5;124m'\u001b[39m]\n",
      "File \u001b[1;32mc:\\Users\\Utilizador\\anaconda3\\Lib\\site-packages\\pydub\\utils.py:274\u001b[0m, in \u001b[0;36mmediainfo_json\u001b[1;34m(filepath, read_ahead_limit)\u001b[0m\n\u001b[0;32m    271\u001b[0m         file\u001b[38;5;241m.\u001b[39mclose()\n\u001b[0;32m    273\u001b[0m command \u001b[38;5;241m=\u001b[39m [prober, \u001b[38;5;124m'\u001b[39m\u001b[38;5;124m-of\u001b[39m\u001b[38;5;124m'\u001b[39m, \u001b[38;5;124m'\u001b[39m\u001b[38;5;124mjson\u001b[39m\u001b[38;5;124m'\u001b[39m] \u001b[38;5;241m+\u001b[39m command_args\n\u001b[1;32m--> 274\u001b[0m res \u001b[38;5;241m=\u001b[39m \u001b[43mPopen\u001b[49m\u001b[43m(\u001b[49m\u001b[43mcommand\u001b[49m\u001b[43m,\u001b[49m\u001b[43m \u001b[49m\u001b[43mstdin\u001b[49m\u001b[38;5;241;43m=\u001b[39;49m\u001b[43mstdin_parameter\u001b[49m\u001b[43m,\u001b[49m\u001b[43m \u001b[49m\u001b[43mstdout\u001b[49m\u001b[38;5;241;43m=\u001b[39;49m\u001b[43mPIPE\u001b[49m\u001b[43m,\u001b[49m\u001b[43m \u001b[49m\u001b[43mstderr\u001b[49m\u001b[38;5;241;43m=\u001b[39;49m\u001b[43mPIPE\u001b[49m\u001b[43m)\u001b[49m\n\u001b[0;32m    275\u001b[0m output, stderr \u001b[38;5;241m=\u001b[39m res\u001b[38;5;241m.\u001b[39mcommunicate(\u001b[38;5;28minput\u001b[39m\u001b[38;5;241m=\u001b[39mstdin_data)\n\u001b[0;32m    276\u001b[0m output \u001b[38;5;241m=\u001b[39m output\u001b[38;5;241m.\u001b[39mdecode(\u001b[38;5;124m\"\u001b[39m\u001b[38;5;124mutf-8\u001b[39m\u001b[38;5;124m\"\u001b[39m, \u001b[38;5;124m'\u001b[39m\u001b[38;5;124mignore\u001b[39m\u001b[38;5;124m'\u001b[39m)\n",
      "File \u001b[1;32mc:\\Users\\Utilizador\\anaconda3\\Lib\\subprocess.py:1026\u001b[0m, in \u001b[0;36mPopen.__init__\u001b[1;34m(self, args, bufsize, executable, stdin, stdout, stderr, preexec_fn, close_fds, shell, cwd, env, universal_newlines, startupinfo, creationflags, restore_signals, start_new_session, pass_fds, user, group, extra_groups, encoding, errors, text, umask, pipesize, process_group)\u001b[0m\n\u001b[0;32m   1022\u001b[0m         \u001b[38;5;28;01mif\u001b[39;00m \u001b[38;5;28mself\u001b[39m\u001b[38;5;241m.\u001b[39mtext_mode:\n\u001b[0;32m   1023\u001b[0m             \u001b[38;5;28mself\u001b[39m\u001b[38;5;241m.\u001b[39mstderr \u001b[38;5;241m=\u001b[39m io\u001b[38;5;241m.\u001b[39mTextIOWrapper(\u001b[38;5;28mself\u001b[39m\u001b[38;5;241m.\u001b[39mstderr,\n\u001b[0;32m   1024\u001b[0m                     encoding\u001b[38;5;241m=\u001b[39mencoding, errors\u001b[38;5;241m=\u001b[39merrors)\n\u001b[1;32m-> 1026\u001b[0m     \u001b[38;5;28;43mself\u001b[39;49m\u001b[38;5;241;43m.\u001b[39;49m\u001b[43m_execute_child\u001b[49m\u001b[43m(\u001b[49m\u001b[43margs\u001b[49m\u001b[43m,\u001b[49m\u001b[43m \u001b[49m\u001b[43mexecutable\u001b[49m\u001b[43m,\u001b[49m\u001b[43m \u001b[49m\u001b[43mpreexec_fn\u001b[49m\u001b[43m,\u001b[49m\u001b[43m \u001b[49m\u001b[43mclose_fds\u001b[49m\u001b[43m,\u001b[49m\n\u001b[0;32m   1027\u001b[0m \u001b[43m                        \u001b[49m\u001b[43mpass_fds\u001b[49m\u001b[43m,\u001b[49m\u001b[43m \u001b[49m\u001b[43mcwd\u001b[49m\u001b[43m,\u001b[49m\u001b[43m \u001b[49m\u001b[43menv\u001b[49m\u001b[43m,\u001b[49m\n\u001b[0;32m   1028\u001b[0m \u001b[43m                        \u001b[49m\u001b[43mstartupinfo\u001b[49m\u001b[43m,\u001b[49m\u001b[43m \u001b[49m\u001b[43mcreationflags\u001b[49m\u001b[43m,\u001b[49m\u001b[43m \u001b[49m\u001b[43mshell\u001b[49m\u001b[43m,\u001b[49m\n\u001b[0;32m   1029\u001b[0m \u001b[43m                        \u001b[49m\u001b[43mp2cread\u001b[49m\u001b[43m,\u001b[49m\u001b[43m \u001b[49m\u001b[43mp2cwrite\u001b[49m\u001b[43m,\u001b[49m\n\u001b[0;32m   1030\u001b[0m \u001b[43m                        \u001b[49m\u001b[43mc2pread\u001b[49m\u001b[43m,\u001b[49m\u001b[43m \u001b[49m\u001b[43mc2pwrite\u001b[49m\u001b[43m,\u001b[49m\n\u001b[0;32m   1031\u001b[0m \u001b[43m                        \u001b[49m\u001b[43merrread\u001b[49m\u001b[43m,\u001b[49m\u001b[43m \u001b[49m\u001b[43merrwrite\u001b[49m\u001b[43m,\u001b[49m\n\u001b[0;32m   1032\u001b[0m \u001b[43m                        \u001b[49m\u001b[43mrestore_signals\u001b[49m\u001b[43m,\u001b[49m\n\u001b[0;32m   1033\u001b[0m \u001b[43m                        \u001b[49m\u001b[43mgid\u001b[49m\u001b[43m,\u001b[49m\u001b[43m \u001b[49m\u001b[43mgids\u001b[49m\u001b[43m,\u001b[49m\u001b[43m \u001b[49m\u001b[43muid\u001b[49m\u001b[43m,\u001b[49m\u001b[43m \u001b[49m\u001b[43mumask\u001b[49m\u001b[43m,\u001b[49m\n\u001b[0;32m   1034\u001b[0m \u001b[43m                        \u001b[49m\u001b[43mstart_new_session\u001b[49m\u001b[43m,\u001b[49m\u001b[43m \u001b[49m\u001b[43mprocess_group\u001b[49m\u001b[43m)\u001b[49m\n\u001b[0;32m   1035\u001b[0m \u001b[38;5;28;01mexcept\u001b[39;00m:\n\u001b[0;32m   1036\u001b[0m     \u001b[38;5;66;03m# Cleanup if the child failed starting.\u001b[39;00m\n\u001b[0;32m   1037\u001b[0m     \u001b[38;5;28;01mfor\u001b[39;00m f \u001b[38;5;129;01min\u001b[39;00m \u001b[38;5;28mfilter\u001b[39m(\u001b[38;5;28;01mNone\u001b[39;00m, (\u001b[38;5;28mself\u001b[39m\u001b[38;5;241m.\u001b[39mstdin, \u001b[38;5;28mself\u001b[39m\u001b[38;5;241m.\u001b[39mstdout, \u001b[38;5;28mself\u001b[39m\u001b[38;5;241m.\u001b[39mstderr)):\n",
      "File \u001b[1;32mc:\\Users\\Utilizador\\anaconda3\\Lib\\subprocess.py:1538\u001b[0m, in \u001b[0;36mPopen._execute_child\u001b[1;34m(self, args, executable, preexec_fn, close_fds, pass_fds, cwd, env, startupinfo, creationflags, shell, p2cread, p2cwrite, c2pread, c2pwrite, errread, errwrite, unused_restore_signals, unused_gid, unused_gids, unused_uid, unused_umask, unused_start_new_session, unused_process_group)\u001b[0m\n\u001b[0;32m   1536\u001b[0m \u001b[38;5;66;03m# Start the process\u001b[39;00m\n\u001b[0;32m   1537\u001b[0m \u001b[38;5;28;01mtry\u001b[39;00m:\n\u001b[1;32m-> 1538\u001b[0m     hp, ht, pid, tid \u001b[38;5;241m=\u001b[39m _winapi\u001b[38;5;241m.\u001b[39mCreateProcess(executable, args,\n\u001b[0;32m   1539\u001b[0m                              \u001b[38;5;66;03m# no special security\u001b[39;00m\n\u001b[0;32m   1540\u001b[0m                              \u001b[38;5;28;01mNone\u001b[39;00m, \u001b[38;5;28;01mNone\u001b[39;00m,\n\u001b[0;32m   1541\u001b[0m                              \u001b[38;5;28mint\u001b[39m(\u001b[38;5;129;01mnot\u001b[39;00m close_fds),\n\u001b[0;32m   1542\u001b[0m                              creationflags,\n\u001b[0;32m   1543\u001b[0m                              env,\n\u001b[0;32m   1544\u001b[0m                              cwd,\n\u001b[0;32m   1545\u001b[0m                              startupinfo)\n\u001b[0;32m   1546\u001b[0m \u001b[38;5;28;01mfinally\u001b[39;00m:\n\u001b[0;32m   1547\u001b[0m     \u001b[38;5;66;03m# Child is launched. Close the parent's copy of those pipe\u001b[39;00m\n\u001b[0;32m   1548\u001b[0m     \u001b[38;5;66;03m# handles that only the child should have open.  You need\u001b[39;00m\n\u001b[1;32m   (...)\u001b[0m\n\u001b[0;32m   1551\u001b[0m     \u001b[38;5;66;03m# pipe will not close when the child process exits and the\u001b[39;00m\n\u001b[0;32m   1552\u001b[0m     \u001b[38;5;66;03m# ReadFile will hang.\u001b[39;00m\n\u001b[0;32m   1553\u001b[0m     \u001b[38;5;28mself\u001b[39m\u001b[38;5;241m.\u001b[39m_close_pipe_fds(p2cread, p2cwrite,\n\u001b[0;32m   1554\u001b[0m                          c2pread, c2pwrite,\n\u001b[0;32m   1555\u001b[0m                          errread, errwrite)\n",
      "\u001b[1;31mFileNotFoundError\u001b[0m: [WinError 2] The system cannot find the file specified"
     ]
    }
   ],
   "source": [
    "\n",
    "from pydub import AudioSegment\n",
    "\n",
    "# Load the .dat audio file\n",
    "audio = AudioSegment.from_file(\"Casa das Tortas 2.m4a\", format=\"m4a\")\n",
    "\n",
    "# Export the audio file as mp3\n",
    "audio.export(\"output_file.mp3\", format=\"mp3\")"
   ]
  },
  {
   "cell_type": "code",
   "execution_count": 31,
   "metadata": {},
   "outputs": [
    {
     "name": "stdout",
     "output_type": "stream",
     "text": [
      "No jantar de hoje tivemos uma incidência, o qual uma mesa de passantes turistas, alérgica a crustáceos, porém comeu mesmo assim, ficou a passar mal na casa de banho, foi informado que iriam chamar o INEM para eles, porém a todo instante eles negaram o pedido do INEM, ficando assim por mais de 40 minutos na casa de banho, insistimos em chamar o INEM, foi informado ao diretor de operações Pedro Ribeiro, sobre a situação, para que não venha nenhuma outra ocorrência pelo restaurante, após em torno de uma hora, foram pegar um carro, levaram a menina para casa, e mais uma vez recusando que a gente chamasse o INEM.\n",
      "\n"
     ]
    }
   ],
   "source": [
    "\"\"\"\n",
    "GENERATE A TEXT FROM A SPEECH AUDIO\n",
    "It uses the transcrption method\n",
    "\n",
    "\"\"\"\n",
    "\n",
    "client = OpenAI(\n",
    "  api_key=os.environ['OPEN_AI_API_KEY'],  # this is also the default, it can be omitted\n",
    ")\n",
    "\n",
    "audio_file= open(\"Casa das Tortas 2 (online-audio-converter.com).mp3\", \"rb\")\n",
    "transcription = client.audio.transcriptions.create(\n",
    "  model=\"whisper-1\", \n",
    "  file=audio_file,\n",
    "  response_format=\"text\",\n",
    "  language=\"pt\"\n",
    ")\n",
    "print(transcription)"
   ]
  },
  {
   "cell_type": "code",
   "execution_count": 31,
   "metadata": {},
   "outputs": [
    {
     "name": "stdout",
     "output_type": "stream",
     "text": [
      "I am Laurindo Benjamin.\n",
      "1721058776\n"
     ]
    }
   ],
   "source": [
    "\"\"\"\n",
    "GENERATE A TEXT FROM A SPEECH AUDIO\n",
    "It use the translation method\n",
    "\"\"\"\n",
    "from datetime import datetime\n",
    "client = OpenAI(\n",
    "  api_key=os.environ['OPEN_AI_API_KEY'],  # this is also the default, it can be omitted\n",
    ")\n",
    "\n",
    "date_now = datetime.strptime(datetime.now().strftime('%Y-%m-%d %H:%M:%S'), '%Y-%m-%d %H:%M:%S')\n",
    "date_now_int = str(int(date_now.timestamp()))\n",
    "\n",
    "audio_file= open(\"audio-pt.mp3\", \"rb\")\n",
    "translation = client.audio.translations.create(\n",
    "  model=\"whisper-1\", \n",
    "  file=audio_file\n",
    ")\n",
    "print(translation.text)\n",
    "print(date_now_int)"
   ]
  },
  {
   "cell_type": "code",
   "execution_count": 70,
   "metadata": {},
   "outputs": [
    {
     "name": "stderr",
     "output_type": "stream",
     "text": [
      "C:\\Users\\Utilizador\\AppData\\Local\\Temp\\ipykernel_1556\\834383014.py:22: DeprecationWarning: Due to a bug, this method doesn't actually stream the response content, `.with_streaming_response.method()` should be used instead\n",
      "  response.stream_to_file(file_path)\n"
     ]
    }
   ],
   "source": [
    "\"\"\"\n",
    "Generate a stream audio from a text\n",
    "\"\"\"\n",
    "filename = 'audio'\n",
    "format = \".wav\"\n",
    "speed = 1.0\n",
    "directory = \"files/audio_books/\"\n",
    "\n",
    "\n",
    "ate_now_int = datetime.strptime(datetime.now().strftime('%Y-%m-%d %H:%M:%S'), '%Y-%m-%d %H:%M:%S')\n",
    "\n",
    "\n",
    "file_path = os.path.join(directory, f'{filename}{format}')\n",
    "        \n",
    "response = client.audio.speech.create(\n",
    "    model=\"tts-1\",\n",
    "    voice=\"alloy\",\n",
    "    input=\"Hello world! This is a streaming test.\",\n",
    "    speed=speed\n",
    ")\n",
    "\n",
    "response.stream_to_file(file_path)\n",
    "#response.with_streaming_response.method()"
   ]
  },
  {
   "cell_type": "markdown",
   "metadata": {},
   "source": [
    "The code below is used to join audio files "
   ]
  },
  {
   "cell_type": "code",
   "execution_count": 82,
   "metadata": {},
   "outputs": [
    {
     "name": "stdout",
     "output_type": "stream",
     "text": [
      "Requirement already satisfied: pydub in c:\\users\\utilizador\\anaconda3\\lib\\site-packages (0.25.1)\n"
     ]
    }
   ],
   "source": [
    "\"\"\" \n",
    "\n",
    "\"\"\"\n",
    "\n",
    "!pip install --upgrade pydub\n",
    "\n"
   ]
  },
  {
   "cell_type": "code",
   "execution_count": 66,
   "metadata": {},
   "outputs": [],
   "source": [
    "from pydub import AudioSegment\n",
    "\n",
    "def join_audio_files(file_paths, output_path):\n",
    "    combined = AudioSegment.empty()\n",
    "    for file_path in file_paths:\n",
    "        if os.path.isfile(file_path):\n",
    "            print(\"File exists\")\n",
    "        if not os.path.exists(file_path):\n",
    "            return False, \"File not found\"\n",
    "        #audio = AudioSegment.from_file(file_path, format=\"mp3\")\n",
    "        audio = AudioSegment.from_mp3(file_path)\n",
    "        #combined += audio\n",
    "    #combined.export(output_path, format='mp3')\n",
    "\n"
   ]
  },
  {
   "cell_type": "code",
   "execution_count": 67,
   "metadata": {},
   "outputs": [],
   "source": [
    "# Usage\n",
    "# replace with your actual file paths\n",
    "file_paths = ['files/audio_books/audio-1721065669_0.mp3', 'files/audio_books/audio-1721065669_1.mp3', 'files/audio_books/audio-1721065669_2.mp3', 'files/audio_books/audio-1721065669_3.mp3']\n",
    "file_paths2 = ['audio-pt.mp3', 'audio.mp3']\n",
    "output_path = 'combined.mp3'  # replace with your desired output path\n",
    "from pydub.playback import play"
   ]
  },
  {
   "cell_type": "code",
   "execution_count": 116,
   "metadata": {},
   "outputs": [
    {
     "ename": "FileNotFoundError",
     "evalue": "[WinError 2] The system cannot find the file specified",
     "output_type": "error",
     "traceback": [
      "\u001b[1;31m---------------------------------------------------------------------------\u001b[0m",
      "\u001b[1;31mFileNotFoundError\u001b[0m                         Traceback (most recent call last)",
      "Cell \u001b[1;32mIn[116], line 10\u001b[0m\n\u001b[0;32m      3\u001b[0m filename \u001b[38;5;241m=\u001b[39m \u001b[38;5;124mb\u001b[39m\u001b[38;5;124m'\u001b[39m\u001b[38;5;124mC:\u001b[39m\u001b[38;5;124m\\\u001b[39m\u001b[38;5;124mUsers\u001b[39m\u001b[38;5;124m\\\u001b[39m\u001b[38;5;124mUtilizador\u001b[39m\u001b[38;5;124m\\\u001b[39m\u001b[38;5;124mOneDrive\u001b[39m\u001b[38;5;124m\\\u001b[39m\u001b[38;5;124mDocumentos\u001b[39m\u001b[38;5;124m\\\u001b[39m\u001b[38;5;124mPythonProject\u001b[39m\u001b[38;5;124m\\\u001b[39m\u001b[38;5;124mFlask-Projects\u001b[39m\u001b[38;5;124m\\\u001b[39m\u001b[38;5;124mprompt-engineer\u001b[39m\u001b[38;5;130;01m\\a\u001b[39;00m\u001b[38;5;124mudio.mp3\u001b[39m\u001b[38;5;124m'\u001b[39m\n\u001b[0;32m      5\u001b[0m subprocess\u001b[38;5;241m.\u001b[39mcall([\u001b[38;5;124m'\u001b[39m\u001b[38;5;124mffmpeg\u001b[39m\u001b[38;5;124m'\u001b[39m, \u001b[38;5;124m'\u001b[39m\u001b[38;5;124m-y\u001b[39m\u001b[38;5;124m'\u001b[39m, \u001b[38;5;124m'\u001b[39m\u001b[38;5;124m-i\u001b[39m\u001b[38;5;124m'\u001b[39m, filename, \u001b[38;5;124m'\u001b[39m\u001b[38;5;124mmp3\u001b[39m\u001b[38;5;124m'\u001b[39m],\n\u001b[0;32m      6\u001b[0m                  stdout\u001b[38;5;241m=\u001b[39msubprocess\u001b[38;5;241m.\u001b[39mDEVNULL,\n\u001b[0;32m      7\u001b[0m                  stderr\u001b[38;5;241m=\u001b[39msubprocess\u001b[38;5;241m.\u001b[39mSTDOUT,\n\u001b[0;32m      8\u001b[0m                  shell\u001b[38;5;241m=\u001b[39m\u001b[38;5;28;01mTrue\u001b[39;00m\n\u001b[0;32m      9\u001b[0m                  )\n\u001b[1;32m---> 10\u001b[0m song \u001b[38;5;241m=\u001b[39m \u001b[43mAudioSegment\u001b[49m\u001b[38;5;241;43m.\u001b[39;49m\u001b[43mfrom_mp3\u001b[49m\u001b[43m(\u001b[49m\u001b[43mfilename\u001b[49m\u001b[43m)\u001b[49m\n\u001b[0;32m     11\u001b[0m \u001b[38;5;66;03m#audio = AudioSegment.from_file(\"files/audio_books/audio.wav\")\u001b[39;00m\n\u001b[0;32m     12\u001b[0m \u001b[38;5;66;03m#play(audio)\u001b[39;00m\n",
      "File \u001b[1;32mc:\\Users\\Utilizador\\anaconda3\\Lib\\site-packages\\pydub\\audio_segment.py:796\u001b[0m, in \u001b[0;36mAudioSegment.from_mp3\u001b[1;34m(cls, file, parameters)\u001b[0m\n\u001b[0;32m    794\u001b[0m \u001b[38;5;129m@classmethod\u001b[39m\n\u001b[0;32m    795\u001b[0m \u001b[38;5;28;01mdef\u001b[39;00m \u001b[38;5;21mfrom_mp3\u001b[39m(\u001b[38;5;28mcls\u001b[39m, file, parameters\u001b[38;5;241m=\u001b[39m\u001b[38;5;28;01mNone\u001b[39;00m):\n\u001b[1;32m--> 796\u001b[0m     \u001b[38;5;28;01mreturn\u001b[39;00m \u001b[38;5;28;43mcls\u001b[39;49m\u001b[38;5;241;43m.\u001b[39;49m\u001b[43mfrom_file\u001b[49m\u001b[43m(\u001b[49m\u001b[43mfile\u001b[49m\u001b[43m,\u001b[49m\u001b[43m \u001b[49m\u001b[38;5;124;43m'\u001b[39;49m\u001b[38;5;124;43mmp3\u001b[39;49m\u001b[38;5;124;43m'\u001b[39;49m\u001b[43m,\u001b[49m\u001b[43m \u001b[49m\u001b[43mparameters\u001b[49m\u001b[38;5;241;43m=\u001b[39;49m\u001b[43mparameters\u001b[49m\u001b[43m)\u001b[49m\n",
      "File \u001b[1;32mc:\\Users\\Utilizador\\anaconda3\\Lib\\site-packages\\pydub\\audio_segment.py:728\u001b[0m, in \u001b[0;36mAudioSegment.from_file\u001b[1;34m(cls, file, format, codec, parameters, start_second, duration, **kwargs)\u001b[0m\n\u001b[0;32m    726\u001b[0m     info \u001b[38;5;241m=\u001b[39m \u001b[38;5;28;01mNone\u001b[39;00m\n\u001b[0;32m    727\u001b[0m \u001b[38;5;28;01melse\u001b[39;00m:\n\u001b[1;32m--> 728\u001b[0m     info \u001b[38;5;241m=\u001b[39m \u001b[43mmediainfo_json\u001b[49m\u001b[43m(\u001b[49m\u001b[43morig_file\u001b[49m\u001b[43m,\u001b[49m\u001b[43m \u001b[49m\u001b[43mread_ahead_limit\u001b[49m\u001b[38;5;241;43m=\u001b[39;49m\u001b[43mread_ahead_limit\u001b[49m\u001b[43m)\u001b[49m\n\u001b[0;32m    729\u001b[0m \u001b[38;5;28;01mif\u001b[39;00m info:\n\u001b[0;32m    730\u001b[0m     audio_streams \u001b[38;5;241m=\u001b[39m [x \u001b[38;5;28;01mfor\u001b[39;00m x \u001b[38;5;129;01min\u001b[39;00m info[\u001b[38;5;124m'\u001b[39m\u001b[38;5;124mstreams\u001b[39m\u001b[38;5;124m'\u001b[39m]\n\u001b[0;32m    731\u001b[0m                      \u001b[38;5;28;01mif\u001b[39;00m x[\u001b[38;5;124m'\u001b[39m\u001b[38;5;124mcodec_type\u001b[39m\u001b[38;5;124m'\u001b[39m] \u001b[38;5;241m==\u001b[39m \u001b[38;5;124m'\u001b[39m\u001b[38;5;124maudio\u001b[39m\u001b[38;5;124m'\u001b[39m]\n",
      "File \u001b[1;32mc:\\Users\\Utilizador\\anaconda3\\Lib\\site-packages\\pydub\\utils.py:274\u001b[0m, in \u001b[0;36mmediainfo_json\u001b[1;34m(filepath, read_ahead_limit)\u001b[0m\n\u001b[0;32m    271\u001b[0m         file\u001b[38;5;241m.\u001b[39mclose()\n\u001b[0;32m    273\u001b[0m command \u001b[38;5;241m=\u001b[39m [prober, \u001b[38;5;124m'\u001b[39m\u001b[38;5;124m-of\u001b[39m\u001b[38;5;124m'\u001b[39m, \u001b[38;5;124m'\u001b[39m\u001b[38;5;124mjson\u001b[39m\u001b[38;5;124m'\u001b[39m] \u001b[38;5;241m+\u001b[39m command_args\n\u001b[1;32m--> 274\u001b[0m res \u001b[38;5;241m=\u001b[39m \u001b[43mPopen\u001b[49m\u001b[43m(\u001b[49m\u001b[43mcommand\u001b[49m\u001b[43m,\u001b[49m\u001b[43m \u001b[49m\u001b[43mstdin\u001b[49m\u001b[38;5;241;43m=\u001b[39;49m\u001b[43mstdin_parameter\u001b[49m\u001b[43m,\u001b[49m\u001b[43m \u001b[49m\u001b[43mstdout\u001b[49m\u001b[38;5;241;43m=\u001b[39;49m\u001b[43mPIPE\u001b[49m\u001b[43m,\u001b[49m\u001b[43m \u001b[49m\u001b[43mstderr\u001b[49m\u001b[38;5;241;43m=\u001b[39;49m\u001b[43mPIPE\u001b[49m\u001b[43m)\u001b[49m\n\u001b[0;32m    275\u001b[0m output, stderr \u001b[38;5;241m=\u001b[39m res\u001b[38;5;241m.\u001b[39mcommunicate(\u001b[38;5;28minput\u001b[39m\u001b[38;5;241m=\u001b[39mstdin_data)\n\u001b[0;32m    276\u001b[0m output \u001b[38;5;241m=\u001b[39m output\u001b[38;5;241m.\u001b[39mdecode(\u001b[38;5;124m\"\u001b[39m\u001b[38;5;124mutf-8\u001b[39m\u001b[38;5;124m\"\u001b[39m, \u001b[38;5;124m'\u001b[39m\u001b[38;5;124mignore\u001b[39m\u001b[38;5;124m'\u001b[39m)\n",
      "File \u001b[1;32mc:\\Users\\Utilizador\\anaconda3\\Lib\\subprocess.py:1026\u001b[0m, in \u001b[0;36mPopen.__init__\u001b[1;34m(self, args, bufsize, executable, stdin, stdout, stderr, preexec_fn, close_fds, shell, cwd, env, universal_newlines, startupinfo, creationflags, restore_signals, start_new_session, pass_fds, user, group, extra_groups, encoding, errors, text, umask, pipesize, process_group)\u001b[0m\n\u001b[0;32m   1022\u001b[0m         \u001b[38;5;28;01mif\u001b[39;00m \u001b[38;5;28mself\u001b[39m\u001b[38;5;241m.\u001b[39mtext_mode:\n\u001b[0;32m   1023\u001b[0m             \u001b[38;5;28mself\u001b[39m\u001b[38;5;241m.\u001b[39mstderr \u001b[38;5;241m=\u001b[39m io\u001b[38;5;241m.\u001b[39mTextIOWrapper(\u001b[38;5;28mself\u001b[39m\u001b[38;5;241m.\u001b[39mstderr,\n\u001b[0;32m   1024\u001b[0m                     encoding\u001b[38;5;241m=\u001b[39mencoding, errors\u001b[38;5;241m=\u001b[39merrors)\n\u001b[1;32m-> 1026\u001b[0m     \u001b[38;5;28;43mself\u001b[39;49m\u001b[38;5;241;43m.\u001b[39;49m\u001b[43m_execute_child\u001b[49m\u001b[43m(\u001b[49m\u001b[43margs\u001b[49m\u001b[43m,\u001b[49m\u001b[43m \u001b[49m\u001b[43mexecutable\u001b[49m\u001b[43m,\u001b[49m\u001b[43m \u001b[49m\u001b[43mpreexec_fn\u001b[49m\u001b[43m,\u001b[49m\u001b[43m \u001b[49m\u001b[43mclose_fds\u001b[49m\u001b[43m,\u001b[49m\n\u001b[0;32m   1027\u001b[0m \u001b[43m                        \u001b[49m\u001b[43mpass_fds\u001b[49m\u001b[43m,\u001b[49m\u001b[43m \u001b[49m\u001b[43mcwd\u001b[49m\u001b[43m,\u001b[49m\u001b[43m \u001b[49m\u001b[43menv\u001b[49m\u001b[43m,\u001b[49m\n\u001b[0;32m   1028\u001b[0m \u001b[43m                        \u001b[49m\u001b[43mstartupinfo\u001b[49m\u001b[43m,\u001b[49m\u001b[43m \u001b[49m\u001b[43mcreationflags\u001b[49m\u001b[43m,\u001b[49m\u001b[43m \u001b[49m\u001b[43mshell\u001b[49m\u001b[43m,\u001b[49m\n\u001b[0;32m   1029\u001b[0m \u001b[43m                        \u001b[49m\u001b[43mp2cread\u001b[49m\u001b[43m,\u001b[49m\u001b[43m \u001b[49m\u001b[43mp2cwrite\u001b[49m\u001b[43m,\u001b[49m\n\u001b[0;32m   1030\u001b[0m \u001b[43m                        \u001b[49m\u001b[43mc2pread\u001b[49m\u001b[43m,\u001b[49m\u001b[43m \u001b[49m\u001b[43mc2pwrite\u001b[49m\u001b[43m,\u001b[49m\n\u001b[0;32m   1031\u001b[0m \u001b[43m                        \u001b[49m\u001b[43merrread\u001b[49m\u001b[43m,\u001b[49m\u001b[43m \u001b[49m\u001b[43merrwrite\u001b[49m\u001b[43m,\u001b[49m\n\u001b[0;32m   1032\u001b[0m \u001b[43m                        \u001b[49m\u001b[43mrestore_signals\u001b[49m\u001b[43m,\u001b[49m\n\u001b[0;32m   1033\u001b[0m \u001b[43m                        \u001b[49m\u001b[43mgid\u001b[49m\u001b[43m,\u001b[49m\u001b[43m \u001b[49m\u001b[43mgids\u001b[49m\u001b[43m,\u001b[49m\u001b[43m \u001b[49m\u001b[43muid\u001b[49m\u001b[43m,\u001b[49m\u001b[43m \u001b[49m\u001b[43mumask\u001b[49m\u001b[43m,\u001b[49m\n\u001b[0;32m   1034\u001b[0m \u001b[43m                        \u001b[49m\u001b[43mstart_new_session\u001b[49m\u001b[43m,\u001b[49m\u001b[43m \u001b[49m\u001b[43mprocess_group\u001b[49m\u001b[43m)\u001b[49m\n\u001b[0;32m   1035\u001b[0m \u001b[38;5;28;01mexcept\u001b[39;00m:\n\u001b[0;32m   1036\u001b[0m     \u001b[38;5;66;03m# Cleanup if the child failed starting.\u001b[39;00m\n\u001b[0;32m   1037\u001b[0m     \u001b[38;5;28;01mfor\u001b[39;00m f \u001b[38;5;129;01min\u001b[39;00m \u001b[38;5;28mfilter\u001b[39m(\u001b[38;5;28;01mNone\u001b[39;00m, (\u001b[38;5;28mself\u001b[39m\u001b[38;5;241m.\u001b[39mstdin, \u001b[38;5;28mself\u001b[39m\u001b[38;5;241m.\u001b[39mstdout, \u001b[38;5;28mself\u001b[39m\u001b[38;5;241m.\u001b[39mstderr)):\n",
      "File \u001b[1;32mc:\\Users\\Utilizador\\anaconda3\\Lib\\subprocess.py:1538\u001b[0m, in \u001b[0;36mPopen._execute_child\u001b[1;34m(self, args, executable, preexec_fn, close_fds, pass_fds, cwd, env, startupinfo, creationflags, shell, p2cread, p2cwrite, c2pread, c2pwrite, errread, errwrite, unused_restore_signals, unused_gid, unused_gids, unused_uid, unused_umask, unused_start_new_session, unused_process_group)\u001b[0m\n\u001b[0;32m   1536\u001b[0m \u001b[38;5;66;03m# Start the process\u001b[39;00m\n\u001b[0;32m   1537\u001b[0m \u001b[38;5;28;01mtry\u001b[39;00m:\n\u001b[1;32m-> 1538\u001b[0m     hp, ht, pid, tid \u001b[38;5;241m=\u001b[39m _winapi\u001b[38;5;241m.\u001b[39mCreateProcess(executable, args,\n\u001b[0;32m   1539\u001b[0m                              \u001b[38;5;66;03m# no special security\u001b[39;00m\n\u001b[0;32m   1540\u001b[0m                              \u001b[38;5;28;01mNone\u001b[39;00m, \u001b[38;5;28;01mNone\u001b[39;00m,\n\u001b[0;32m   1541\u001b[0m                              \u001b[38;5;28mint\u001b[39m(\u001b[38;5;129;01mnot\u001b[39;00m close_fds),\n\u001b[0;32m   1542\u001b[0m                              creationflags,\n\u001b[0;32m   1543\u001b[0m                              env,\n\u001b[0;32m   1544\u001b[0m                              cwd,\n\u001b[0;32m   1545\u001b[0m                              startupinfo)\n\u001b[0;32m   1546\u001b[0m \u001b[38;5;28;01mfinally\u001b[39;00m:\n\u001b[0;32m   1547\u001b[0m     \u001b[38;5;66;03m# Child is launched. Close the parent's copy of those pipe\u001b[39;00m\n\u001b[0;32m   1548\u001b[0m     \u001b[38;5;66;03m# handles that only the child should have open.  You need\u001b[39;00m\n\u001b[1;32m   (...)\u001b[0m\n\u001b[0;32m   1551\u001b[0m     \u001b[38;5;66;03m# pipe will not close when the child process exits and the\u001b[39;00m\n\u001b[0;32m   1552\u001b[0m     \u001b[38;5;66;03m# ReadFile will hang.\u001b[39;00m\n\u001b[0;32m   1553\u001b[0m     \u001b[38;5;28mself\u001b[39m\u001b[38;5;241m.\u001b[39m_close_pipe_fds(p2cread, p2cwrite,\n\u001b[0;32m   1554\u001b[0m                          c2pread, c2pwrite,\n\u001b[0;32m   1555\u001b[0m                          errread, errwrite)\n",
      "\u001b[1;31mFileNotFoundError\u001b[0m: [WinError 2] The system cannot find the file specified"
     ]
    }
   ],
   "source": [
    "import subprocess\n",
    "from pydub import AudioSegment\n",
    "filename = b'C:\\Users\\Utilizador\\OneDrive\\Documentos\\PythonProject\\Flask-Projects\\prompt-engineer\\audio.mp3'\n",
    "\n",
    "subprocess.call(['ffmpeg', '-y', '-i', filename, 'mp3'],\n",
    "                 stdout=subprocess.DEVNULL,\n",
    "                 stderr=subprocess.STDOUT,\n",
    "                 shell=True\n",
    "                 )\n",
    "song = AudioSegment.from_mp3(filename)\n",
    "#audio = AudioSegment.from_file(\"files/audio_books/audio.wav\")\n",
    "#play(audio)"
   ]
  },
  {
   "cell_type": "code",
   "execution_count": 64,
   "metadata": {},
   "outputs": [],
   "source": [
    "\n",
    "#join_audio_files(file_paths2, output_path)"
   ]
  },
  {
   "cell_type": "code",
   "execution_count": null,
   "metadata": {},
   "outputs": [],
   "source": [
    "#from moviepy.editor import concatenate_audioclips, AudioFileClip"
   ]
  },
  {
   "cell_type": "code",
   "execution_count": 73,
   "metadata": {},
   "outputs": [],
   "source": [
    "import wave"
   ]
  },
  {
   "cell_type": "code",
   "execution_count": 74,
   "metadata": {},
   "outputs": [],
   "source": [
    "def concatenate_audio_wave(audio_clip_paths, output_path):\n",
    "    \"\"\"Concatenates several audio files into one audio file using Python's built-in wav module\n",
    "    and save it to `output_path`. Note that extension (wav) must be added to `output_path`\"\"\"\n",
    "    data = []\n",
    "    for clip in audio_clip_paths:\n",
    "        w = wave.open(clip, \"rb\")\n",
    "        data.append([w.getparams(), w.readframes(w.getnframes())])\n",
    "        w.close()\n",
    "    output = wave.open(output_path, \"wb\")\n",
    "    output.setparams(data[0][0])\n",
    "    for i in range(len(data)):\n",
    "        output.writeframes(data[i][1])\n",
    "    output.close()"
   ]
  },
  {
   "cell_type": "code",
   "execution_count": 77,
   "metadata": {},
   "outputs": [
    {
     "ename": "FileNotFoundError",
     "evalue": "[Errno 2] No such file or directory: 'f'",
     "output_type": "error",
     "traceback": [
      "\u001b[1;31m---------------------------------------------------------------------------\u001b[0m",
      "\u001b[1;31mFileNotFoundError\u001b[0m                         Traceback (most recent call last)",
      "Cell \u001b[1;32mIn[77], line 1\u001b[0m\n\u001b[1;32m----> 1\u001b[0m \u001b[43mconcatenate_audio_wave\u001b[49m\u001b[43m(\u001b[49m\u001b[38;5;124;43m\"\u001b[39;49m\u001b[38;5;124;43mfiles/audio_books/audio.wav\u001b[39;49m\u001b[38;5;124;43m\"\u001b[39;49m\u001b[43m,\u001b[49m\u001b[43m \u001b[49m\u001b[38;5;124;43m\"\u001b[39;49m\u001b[38;5;124;43maudio.wav\u001b[39;49m\u001b[38;5;124;43m\"\u001b[39;49m\u001b[43m)\u001b[49m\n",
      "Cell \u001b[1;32mIn[74], line 6\u001b[0m, in \u001b[0;36mconcatenate_audio_wave\u001b[1;34m(audio_clip_paths, output_path)\u001b[0m\n\u001b[0;32m      4\u001b[0m data \u001b[38;5;241m=\u001b[39m []\n\u001b[0;32m      5\u001b[0m \u001b[38;5;28;01mfor\u001b[39;00m clip \u001b[38;5;129;01min\u001b[39;00m audio_clip_paths:\n\u001b[1;32m----> 6\u001b[0m     w \u001b[38;5;241m=\u001b[39m \u001b[43mwave\u001b[49m\u001b[38;5;241;43m.\u001b[39;49m\u001b[43mopen\u001b[49m\u001b[43m(\u001b[49m\u001b[43mclip\u001b[49m\u001b[43m,\u001b[49m\u001b[43m \u001b[49m\u001b[38;5;124;43m\"\u001b[39;49m\u001b[38;5;124;43mrb\u001b[39;49m\u001b[38;5;124;43m\"\u001b[39;49m\u001b[43m)\u001b[49m\n\u001b[0;32m      7\u001b[0m     data\u001b[38;5;241m.\u001b[39mappend([w\u001b[38;5;241m.\u001b[39mgetparams(), w\u001b[38;5;241m.\u001b[39mreadframes(w\u001b[38;5;241m.\u001b[39mgetnframes())])\n\u001b[0;32m      8\u001b[0m     w\u001b[38;5;241m.\u001b[39mclose()\n",
      "File \u001b[1;32mc:\\Users\\Utilizador\\anaconda3\\Lib\\wave.py:631\u001b[0m, in \u001b[0;36mopen\u001b[1;34m(f, mode)\u001b[0m\n\u001b[0;32m    629\u001b[0m         mode \u001b[38;5;241m=\u001b[39m \u001b[38;5;124m'\u001b[39m\u001b[38;5;124mrb\u001b[39m\u001b[38;5;124m'\u001b[39m\n\u001b[0;32m    630\u001b[0m \u001b[38;5;28;01mif\u001b[39;00m mode \u001b[38;5;129;01min\u001b[39;00m (\u001b[38;5;124m'\u001b[39m\u001b[38;5;124mr\u001b[39m\u001b[38;5;124m'\u001b[39m, \u001b[38;5;124m'\u001b[39m\u001b[38;5;124mrb\u001b[39m\u001b[38;5;124m'\u001b[39m):\n\u001b[1;32m--> 631\u001b[0m     \u001b[38;5;28;01mreturn\u001b[39;00m \u001b[43mWave_read\u001b[49m\u001b[43m(\u001b[49m\u001b[43mf\u001b[49m\u001b[43m)\u001b[49m\n\u001b[0;32m    632\u001b[0m \u001b[38;5;28;01melif\u001b[39;00m mode \u001b[38;5;129;01min\u001b[39;00m (\u001b[38;5;124m'\u001b[39m\u001b[38;5;124mw\u001b[39m\u001b[38;5;124m'\u001b[39m, \u001b[38;5;124m'\u001b[39m\u001b[38;5;124mwb\u001b[39m\u001b[38;5;124m'\u001b[39m):\n\u001b[0;32m    633\u001b[0m     \u001b[38;5;28;01mreturn\u001b[39;00m Wave_write(f)\n",
      "File \u001b[1;32mc:\\Users\\Utilizador\\anaconda3\\Lib\\wave.py:279\u001b[0m, in \u001b[0;36mWave_read.__init__\u001b[1;34m(self, f)\u001b[0m\n\u001b[0;32m    277\u001b[0m \u001b[38;5;28mself\u001b[39m\u001b[38;5;241m.\u001b[39m_i_opened_the_file \u001b[38;5;241m=\u001b[39m \u001b[38;5;28;01mNone\u001b[39;00m\n\u001b[0;32m    278\u001b[0m \u001b[38;5;28;01mif\u001b[39;00m \u001b[38;5;28misinstance\u001b[39m(f, \u001b[38;5;28mstr\u001b[39m):\n\u001b[1;32m--> 279\u001b[0m     f \u001b[38;5;241m=\u001b[39m \u001b[43mbuiltins\u001b[49m\u001b[38;5;241;43m.\u001b[39;49m\u001b[43mopen\u001b[49m\u001b[43m(\u001b[49m\u001b[43mf\u001b[49m\u001b[43m,\u001b[49m\u001b[43m \u001b[49m\u001b[38;5;124;43m'\u001b[39;49m\u001b[38;5;124;43mrb\u001b[39;49m\u001b[38;5;124;43m'\u001b[39;49m\u001b[43m)\u001b[49m\n\u001b[0;32m    280\u001b[0m     \u001b[38;5;28mself\u001b[39m\u001b[38;5;241m.\u001b[39m_i_opened_the_file \u001b[38;5;241m=\u001b[39m f\n\u001b[0;32m    281\u001b[0m \u001b[38;5;66;03m# else, assume it is an open file object already\u001b[39;00m\n",
      "\u001b[1;31mFileNotFoundError\u001b[0m: [Errno 2] No such file or directory: 'f'"
     ]
    }
   ],
   "source": [
    "concatenate_audio_wave(\"files/audio_books/audio.wav\", \"audio.wav\")"
   ]
  },
  {
   "cell_type": "code",
   "execution_count": 123,
   "metadata": {},
   "outputs": [
    {
     "name": "stdout",
     "output_type": "stream",
     "text": [
      "Requirement already satisfied: pygame in c:\\users\\utilizador\\anaconda3\\lib\\site-packages (2.6.0)\n"
     ]
    }
   ],
   "source": [
    "!pip install --upgrade pygame\n",
    "\n"
   ]
  },
  {
   "cell_type": "code",
   "execution_count": 125,
   "metadata": {},
   "outputs": [],
   "source": [
    "import pygame \n",
    "import time"
   ]
  },
  {
   "cell_type": "code",
   "execution_count": 132,
   "metadata": {},
   "outputs": [],
   "source": [
    "def play_audio_files(file_list):\n",
    "    try:\n",
    "        pygame.mixer.init()\n",
    "\n",
    "        for audio_file in file_list:\n",
    "            pygame.mixer.music.load(audio_file)\n",
    "            pygame.mixer.music.play()\n",
    "\n",
    "            while pygame.mixer.music.get_busy():\n",
    "                # Wait for the audio file to finish playing\n",
    "                time.sleep(1)\n",
    "    except Exception as e:\n",
    "        return False, str(e)"
   ]
  },
  {
   "cell_type": "code",
   "execution_count": 133,
   "metadata": {},
   "outputs": [
    {
     "data": {
      "text/plain": [
       "(False, 'Unknown WAVE format')"
      ]
     },
     "execution_count": 133,
     "metadata": {},
     "output_type": "execute_result"
    }
   ],
   "source": [
    "# list of audio files\n",
    "def get_all_files(directory):\n",
    "    return [f'{directory}{f}' for f in os.listdir(directory) if os.path.isfile(os.path.join(directory, f))]\n",
    "\n",
    "directory = \"files/audio_books/\"\n",
    "audio_files = get_all_files(directory)\n",
    "\n",
    "play_audio_files(audio_files)\n",
    "    "
   ]
  },
  {
   "cell_type": "code",
   "execution_count": 165,
   "metadata": {},
   "outputs": [
    {
     "ename": "ImportError",
     "evalue": "cannot import name 'play_speech' from 'play_speech_content' (c:\\Users\\Utilizador\\OneDrive\\Documentos\\PythonProject\\Flask-Projects\\prompt-engineer\\play_speech_content.py)",
     "output_type": "error",
     "traceback": [
      "\u001b[1;31m---------------------------------------------------------------------------\u001b[0m",
      "\u001b[1;31mImportError\u001b[0m                               Traceback (most recent call last)",
      "Cell \u001b[1;32mIn[165], line 1\u001b[0m\n\u001b[1;32m----> 1\u001b[0m \u001b[38;5;28;01mfrom\u001b[39;00m \u001b[38;5;21;01mplay_speech_content\u001b[39;00m \u001b[38;5;28;01mimport\u001b[39;00m play_speech\n\u001b[0;32m      2\u001b[0m play_speech(\u001b[38;5;124m\"\u001b[39m\u001b[38;5;124m\"\u001b[39m)\n",
      "\u001b[1;31mImportError\u001b[0m: cannot import name 'play_speech' from 'play_speech_content' (c:\\Users\\Utilizador\\OneDrive\\Documentos\\PythonProject\\Flask-Projects\\prompt-engineer\\play_speech_content.py)"
     ]
    }
   ],
   "source": []
  },
  {
   "cell_type": "code",
   "execution_count": 161,
   "metadata": {},
   "outputs": [
    {
     "name": "stdout",
     "output_type": "stream",
     "text": [
      "Unexpected exception formatting exception. Falling back to standard exception\n"
     ]
    },
    {
     "name": "stderr",
     "output_type": "stream",
     "text": [
      "Traceback (most recent call last):\n",
      "  File \"C:\\Users\\Utilizador\\AppData\\Roaming\\Python\\Python311\\site-packages\\IPython\\core\\interactiveshell.py\", line 3508, in run_code\n",
      "    exec(code_obj, self.user_global_ns, self.user_ns)\n",
      "  File \"C:\\Users\\Utilizador\\AppData\\Local\\Temp\\ipykernel_1556\\3776100595.py\", line 2, in <module>\n",
      "    speech.play(\"files/audio_books/\")\n",
      "  File \"c:\\Users\\Utilizador\\OneDrive\\Documentos\\PythonProject\\Flask-Projects\\prompt-engineer\\play_speech_content.py\", line 14, in play\n",
      "AttributeError: 'str' object has no attribute 'get_all_files'\n",
      "\n",
      "During handling of the above exception, another exception occurred:\n",
      "\n",
      "Traceback (most recent call last):\n",
      "  File \"C:\\Users\\Utilizador\\AppData\\Roaming\\Python\\Python311\\site-packages\\IPython\\core\\interactiveshell.py\", line 2105, in showtraceback\n",
      "    stb = self.InteractiveTB.structured_traceback(\n",
      "          ^^^^^^^^^^^^^^^^^^^^^^^^^^^^^^^^^^^^^^^^\n",
      "  File \"C:\\Users\\Utilizador\\AppData\\Roaming\\Python\\Python311\\site-packages\\IPython\\core\\ultratb.py\", line 1428, in structured_traceback\n",
      "    return FormattedTB.structured_traceback(\n",
      "           ^^^^^^^^^^^^^^^^^^^^^^^^^^^^^^^^^\n",
      "  File \"C:\\Users\\Utilizador\\AppData\\Roaming\\Python\\Python311\\site-packages\\IPython\\core\\ultratb.py\", line 1319, in structured_traceback\n",
      "    return VerboseTB.structured_traceback(\n",
      "           ^^^^^^^^^^^^^^^^^^^^^^^^^^^^^^^\n",
      "  File \"C:\\Users\\Utilizador\\AppData\\Roaming\\Python\\Python311\\site-packages\\IPython\\core\\ultratb.py\", line 1172, in structured_traceback\n",
      "    formatted_exception = self.format_exception_as_a_whole(etype, evalue, etb, number_of_lines_of_context,\n",
      "                          ^^^^^^^^^^^^^^^^^^^^^^^^^^^^^^^^^^^^^^^^^^^^^^^^^^^^^^^^^^^^^^^^^^^^^^^^^^^^^^^^\n",
      "  File \"C:\\Users\\Utilizador\\AppData\\Roaming\\Python\\Python311\\site-packages\\IPython\\core\\ultratb.py\", line 1087, in format_exception_as_a_whole\n",
      "    frames.append(self.format_record(record))\n",
      "                  ^^^^^^^^^^^^^^^^^^^^^^^^^^\n",
      "  File \"C:\\Users\\Utilizador\\AppData\\Roaming\\Python\\Python311\\site-packages\\IPython\\core\\ultratb.py\", line 969, in format_record\n",
      "    frame_info.lines, Colors, self.has_colors, lvals\n",
      "    ^^^^^^^^^^^^^^^^\n",
      "  File \"C:\\Users\\Utilizador\\AppData\\Roaming\\Python\\Python311\\site-packages\\IPython\\core\\ultratb.py\", line 792, in lines\n",
      "    return self._sd.lines\n",
      "           ^^^^^^^^^^^^^^\n",
      "  File \"C:\\Users\\Utilizador\\AppData\\Roaming\\Python\\Python311\\site-packages\\stack_data\\utils.py\", line 144, in cached_property_wrapper\n",
      "    value = obj.__dict__[self.func.__name__] = self.func(obj)\n",
      "                                               ^^^^^^^^^^^^^^\n",
      "  File \"C:\\Users\\Utilizador\\AppData\\Roaming\\Python\\Python311\\site-packages\\stack_data\\core.py\", line 734, in lines\n",
      "    pieces = self.included_pieces\n",
      "             ^^^^^^^^^^^^^^^^^^^^\n",
      "  File \"C:\\Users\\Utilizador\\AppData\\Roaming\\Python\\Python311\\site-packages\\stack_data\\utils.py\", line 144, in cached_property_wrapper\n",
      "    value = obj.__dict__[self.func.__name__] = self.func(obj)\n",
      "                                               ^^^^^^^^^^^^^^\n",
      "  File \"C:\\Users\\Utilizador\\AppData\\Roaming\\Python\\Python311\\site-packages\\stack_data\\core.py\", line 681, in included_pieces\n",
      "    pos = scope_pieces.index(self.executing_piece)\n",
      "                             ^^^^^^^^^^^^^^^^^^^^\n",
      "  File \"C:\\Users\\Utilizador\\AppData\\Roaming\\Python\\Python311\\site-packages\\stack_data\\utils.py\", line 144, in cached_property_wrapper\n",
      "    value = obj.__dict__[self.func.__name__] = self.func(obj)\n",
      "                                               ^^^^^^^^^^^^^^\n",
      "  File \"C:\\Users\\Utilizador\\AppData\\Roaming\\Python\\Python311\\site-packages\\stack_data\\core.py\", line 660, in executing_piece\n",
      "    return only(\n",
      "           ^^^^^\n",
      "  File \"C:\\Users\\Utilizador\\AppData\\Roaming\\Python\\Python311\\site-packages\\executing\\executing.py\", line 190, in only\n",
      "    raise NotOneValueFound('Expected one value, found 0')\n",
      "executing.executing.NotOneValueFound: Expected one value, found 0\n"
     ]
    }
   ],
   "source": [
    "speech = PlaySpeech()\n",
    "speech.play(\"files/audio_books/\")"
   ]
  }
 ],
 "metadata": {
  "kernelspec": {
   "display_name": "Python 3",
   "language": "python",
   "name": "python3"
  },
  "language_info": {
   "codemirror_mode": {
    "name": "ipython",
    "version": 3
   },
   "file_extension": ".py",
   "mimetype": "text/x-python",
   "name": "python",
   "nbconvert_exporter": "python",
   "pygments_lexer": "ipython3",
   "version": "3.11.5"
  }
 },
 "nbformat": 4,
 "nbformat_minor": 2
}
