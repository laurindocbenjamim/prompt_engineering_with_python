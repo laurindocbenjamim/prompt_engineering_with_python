{
 "cells": [
  {
   "cell_type": "code",
   "execution_count": 16,
   "metadata": {},
   "outputs": [
    {
     "name": "stdout",
     "output_type": "stream",
     "text": [
      "Requirement already satisfied: openai in c:\\users\\utilizador\\anaconda3\\lib\\site-packages (1.35.13)\n",
      "Requirement already satisfied: anyio<5,>=3.5.0 in c:\\users\\utilizador\\anaconda3\\lib\\site-packages (from openai) (4.4.0)\n",
      "Requirement already satisfied: distro<2,>=1.7.0 in c:\\users\\utilizador\\anaconda3\\lib\\site-packages (from openai) (1.8.0)\n",
      "Requirement already satisfied: httpx<1,>=0.23.0 in c:\\users\\utilizador\\anaconda3\\lib\\site-packages (from openai) (0.27.0)\n",
      "Requirement already satisfied: pydantic<3,>=1.9.0 in c:\\users\\utilizador\\anaconda3\\lib\\site-packages (from openai) (1.10.12)\n",
      "Requirement already satisfied: sniffio in c:\\users\\utilizador\\anaconda3\\lib\\site-packages (from openai) (1.3.1)\n",
      "Requirement already satisfied: tqdm>4 in c:\\users\\utilizador\\anaconda3\\lib\\site-packages (from openai) (4.65.0)\n",
      "Requirement already satisfied: typing-extensions<5,>=4.7 in c:\\users\\utilizador\\anaconda3\\lib\\site-packages (from openai) (4.9.0)\n",
      "Requirement already satisfied: idna>=2.8 in c:\\users\\utilizador\\anaconda3\\lib\\site-packages (from anyio<5,>=3.5.0->openai) (3.4)\n",
      "Requirement already satisfied: certifi in c:\\users\\utilizador\\anaconda3\\lib\\site-packages (from httpx<1,>=0.23.0->openai) (2023.11.17)\n",
      "Requirement already satisfied: httpcore==1.* in c:\\users\\utilizador\\anaconda3\\lib\\site-packages (from httpx<1,>=0.23.0->openai) (1.0.5)\n",
      "Requirement already satisfied: h11<0.15,>=0.13 in c:\\users\\utilizador\\anaconda3\\lib\\site-packages (from httpcore==1.*->httpx<1,>=0.23.0->openai) (0.14.0)\n",
      "Requirement already satisfied: colorama in c:\\users\\utilizador\\appdata\\roaming\\python\\python311\\site-packages (from tqdm>4->openai) (0.4.6)\n"
     ]
    }
   ],
   "source": [
    "# Installing libraries\n",
    "#!pip install openai\n",
    "!pip install --upgrade openai"
   ]
  },
  {
   "cell_type": "code",
   "execution_count": 1,
   "metadata": {},
   "outputs": [],
   "source": [
    "# Importing libraries\n",
    "import openai\n",
    "import os\n"
   ]
  },
  {
   "cell_type": "code",
   "execution_count": 3,
   "metadata": {},
   "outputs": [],
   "source": [
    "from dotenv import load_dotenv, find_dotenv\n",
    "_ = load_dotenv(find_dotenv())\n",
    "\n",
    "\"\"\" Approach - changes iteration\n",
    "Old notation: \n",
    "openai.api_key  = os.getenv('OPEN_AI_API_KEY')\n",
    "\n",
    "New notation:\n",
    "\n",
    "from openai import OpenAI\n",
    "\n",
    "client = OpenAI(\n",
    "  api_key=os.environ['OPENAI_API_KEY'],  # this is also the default, it can be omitted\n",
    ")\n",
    "\n",
    "\n",
    "\"\"\"\n",
    "\n",
    "# new\n",
    "from openai import OpenAI\n",
    "\n",
    "client = OpenAI(\n",
    "  api_key=os.environ['OPEN_AI_API_KEY'],  # this is also the default, it can be omitted\n",
    ")\n"
   ]
  },
  {
   "cell_type": "code",
   "execution_count": 5,
   "metadata": {},
   "outputs": [],
   "source": [
    "#  get completion \n",
    "\"\"\" Approach - Changes\n",
    "\n",
    "Old notation:\n",
    "def get_completion(prompt, model=\"gpt-3.5-turbo\"):\n",
    "    messages = [{\"role\": \"user\", \"content\": prompt}]\n",
    "    response = openai.ChatCompletion.create(\n",
    "        model=model,\n",
    "        messages=messages,\n",
    "        temperature=0, # this is the degree of randomness of the model's output\n",
    "    )\n",
    "    return response.choices[0].message[\"content\"]\n",
    "\n",
    "New notation:\n",
    "# new\n",
    "from openai import AsyncOpenAI\n",
    "\n",
    "client = AsyncOpenAI()\n",
    "completion = await client.chat.completions.create(model=\"gpt-3.5-turbo\", messages=[{\"role\": \"user\", \"content\": \"Hello world\"}])\n",
    "\n",
    "\"\"\"\n",
    "\n",
    "\n",
    "\n",
    "\n",
    "# new\n",
    "from openai import AsyncOpenAI\n",
    "\n",
    "#client = AsyncOpenAI()\n",
    "\n",
    "def get_completion(prompt, model=\"gpt-3.5-turbo\"):\n",
    "    messages = [{\"role\": \"user\", \"content\": prompt}]\n",
    "    completion = client.chat.completions.create(model=model, messages=messages, temperature=0)\n",
    "    \"\"\" return completion.choices[0].message[\"content\"] \"\"\"\n",
    "    return completion.choices[0].message.content\n",
    "    "
   ]
  },
  {
   "cell_type": "code",
   "execution_count": 8,
   "metadata": {},
   "outputs": [
    {
     "name": "stdout",
     "output_type": "stream",
     "text": [
      "{\n",
      "  \"Monday\": {\n",
      "    \"11am-7pm\": \"Laurindo\",\n",
      "    \"7pm-11pm\": \"Lucio\",\n",
      "    \"11pm-00am\": \"Augustina\"\n",
      "  },\n",
      "  \"Tuesday\": {\n",
      "    \"11am-7pm\": \"Jayson\",\n",
      "    \"7pm-11pm\": \"Toze\",\n",
      "    \"11pm-00am\": \"Laurindo\"\n",
      "  },\n",
      "  \"Wednesday\": {\n",
      "    \"11am-7pm\": \"Lucio\",\n",
      "    \"7pm-11pm\": \"Augustina\",\n",
      "    \"11pm-00am\": \"Jayson\"\n",
      "  },\n",
      "  \"Thursday\": {\n",
      "    \"11am-7pm\": \"Toze\",\n",
      "    \"7pm-11pm\": \"Laurindo\",\n",
      "    \"11pm-00am\": \"Lucio\"\n",
      "  },\n",
      "  \"Friday\": {\n",
      "    \"11am-7pm\": \"Augustina\",\n",
      "    \"7pm-11pm\": \"Jayson\",\n",
      "    \"11pm-00am\": \"Toze\"\n",
      "  },\n",
      "  \"Saturday\": {\n",
      "    \"11am-7pm\": \"Laurindo\",\n",
      "    \"7pm-11pm\": \"Lucio\",\n",
      "    \"11pm-00am\": \"Augustina\"\n",
      "  },\n",
      "  \"Sunday\": {\n",
      "    \"11am-7pm\": \"Jayson\",\n",
      "    \"7pm-11pm\": \"Toze\",\n",
      "    \"11pm-00am\": \"Laurindo\"\n",
      "  }\n",
      "}\n"
     ]
    }
   ],
   "source": [
    "#\n",
    "\n",
    "names = f\"\"\"\n",
    "[Laurindo, Lucio, Augustina, Jayson, Toze]\n",
    "\"\"\"\n",
    "\n",
    "prompt = f\"\"\"\n",
    "Given the 5 worker names in brackets \n",
    "```{names}```\n",
    "Generate a weekly work schedule taking into account the following rules.\n",
    "First: the company opens to the public at 12pm and closes at 00AM every day.\n",
    "Second: employees start work at 11am to prepare the site every day.\n",
    "Third: every employee must work 8 hours a day to complete 40 hours a week.\n",
    "Fourth: each employee is entitled to one and a half days off.\n",
    "Fifth: workers' days off never happen on Friday.\n",
    "Sixth: the employee can work 8 continuous hours per day or\n",
    "the eight hours can be divided by two, that is, there can be an interval of 4 or 1 hour.\n",
    "Seventh: daily schedules can be rotated.\n",
    "\n",
    "eight: organize the data in json format or in a format that is easy to represent in a spreadsheet\n",
    "ninth: there must always be one or two employees working until 00AM.\n",
    "tenth: An employee's schedule for each day should never be the same, it should be rotating \n",
    "\n",
    "\"\"\"\n",
    "completion = get_completion(prompt)\n",
    "print(completion)"
   ]
  }
 ],
 "metadata": {
  "kernelspec": {
   "display_name": "Python 3",
   "language": "python",
   "name": "python3"
  },
  "language_info": {
   "codemirror_mode": {
    "name": "ipython",
    "version": 3
   },
   "file_extension": ".py",
   "mimetype": "text/x-python",
   "name": "python",
   "nbconvert_exporter": "python",
   "pygments_lexer": "ipython3",
   "version": "3.11.5"
  }
 },
 "nbformat": 4,
 "nbformat_minor": 2
}
